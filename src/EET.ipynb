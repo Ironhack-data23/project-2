{
 "cells": [
  {
   "cell_type": "markdown",
   "metadata": {},
   "source": [
    "<div style=\"text-align:center\">\n",
    "  <h1><strong> Nike vs Adidas <strong></h1>\n",
    "  <h3><em> An In-Depth Exploration through Data Analysis and Web Scraping <em></h3>\n",
    "  <h3><small> Cleaning, Exploring, Extracting and Transforming data <small></h3>\n",
    "  \n",
    "</div>"
   ]
  },
  {
   "cell_type": "markdown",
   "metadata": {},
   "source": [
    "The dataset consists of 3268 products from Nike and Adidas with features of information including their ratings, discount, sales price, listed price, product name, and the number of reviews."
   ]
  },
  {
   "cell_type": "code",
   "execution_count": 132,
   "metadata": {},
   "outputs": [],
   "source": [
    "import pandas as pd \n",
    "import requests\n",
    "from bs4 import BeautifulSoup\n",
    "import re"
   ]
  },
  {
   "cell_type": "code",
   "execution_count": 239,
   "metadata": {},
   "outputs": [
    {
     "data": {
      "text/plain": [
       "2624"
      ]
     },
     "execution_count": 239,
     "metadata": {},
     "output_type": "execute_result"
    }
   ],
   "source": [
    "#Importing Dataset \n",
    "pathway = \"C:/Users/Sara/project-2/data/data_nike_vs_addidas_unsupervised.xlsx\"\n",
    "adidas_shoes = pd.read_excel(pathway)\n",
    "adidas_shoes = adidas_shoes.head(2624)\n",
    "len(adidas_shoes)"
   ]
  },
  {
   "cell_type": "code",
   "execution_count": 240,
   "metadata": {},
   "outputs": [
    {
     "data": {
      "text/plain": [
       "Product Name     object\n",
       "Product ID       object\n",
       "Listing Price     int64\n",
       "Sale Price        int64\n",
       "Discount          int64\n",
       "Brand            object\n",
       "Rating            int64\n",
       "Reviews           int64\n",
       "dtype: object"
      ]
     },
     "execution_count": 240,
     "metadata": {},
     "output_type": "execute_result"
    }
   ],
   "source": [
    "adidas_shoes.dtypes"
   ]
  },
  {
   "cell_type": "code",
   "execution_count": 241,
   "metadata": {},
   "outputs": [],
   "source": [
    "def adidas_cleaining():\n",
    "    adidas_shoes = adidas_shoes.rename(columns={\"Brand\": \"Category\"})\n",
    "    adidas_shoes.columns = adidas_shoes.columns.str.capitalize()"
   ]
  },
  {
   "cell_type": "code",
   "execution_count": 242,
   "metadata": {},
   "outputs": [],
   "source": [
    "def adidas_drop():\n",
    "    adidas_shoes.drop(\"Sale price\", axis=1, inplace=True)\n",
    "    adidas_shoes.drop(\"Discount\", axis=1, inplace=True)"
   ]
  },
  {
   "cell_type": "code",
   "execution_count": 243,
   "metadata": {},
   "outputs": [],
   "source": [
    "def get_adidas_gender(dataframe):\n",
    "    men = re.compile(r\"\\b(?:Men|man)\\b\", flags=re.IGNORECASE)\n",
    "    women = re.compile(r\"\\b(?:Women|woman)\\b\", flags=re.IGNORECASE)\n",
    "    \n",
    "    if men.search(dataframe):\n",
    "        return \"Hombre\"\n",
    "    elif  women.search(dataframe):\n",
    "        return \"Mujer\"\n",
    "    else:\n",
    "        return \"Hombre\""
   ]
  },
  {
   "cell_type": "code",
   "execution_count": 245,
   "metadata": {},
   "outputs": [],
   "source": [
    "adidas_shoes[\"Gender\"] = adidas_shoes[\"Product name\"].apply(get_adidas_gender)"
   ]
  },
  {
   "cell_type": "code",
   "execution_count": 246,
   "metadata": {},
   "outputs": [],
   "source": [
    "def get_adidas_cat(category):\n",
    "    if category == \"Adidas SPORT PERFORMANCE\":\n",
    "        return \"Sports\"\n",
    "    elif category == \"Adidas CORE / NEO\":\n",
    "        return \"Sports\"\n",
    "    else:\n",
    "        return \"Lifestyle\"\n"
   ]
  },
  {
   "cell_type": "code",
   "execution_count": 247,
   "metadata": {},
   "outputs": [],
   "source": [
    "def adidas_rename_product():\n",
    "    men = re.compile(r\"\\b(?:Men|man)'?s\\b\", flags=re.IGNORECASE)\n",
    "    women = re.compile(r\"\\b(?:Women|woman)'?s\\b\", flags=re.IGNORECASE)\n",
    "    unisex = re.compile(r\"\\b(?:Unisex|unisex)'?s\\b\", flags=re.IGNORECASE)\n",
    "    shoes = re.compile(r\"\\b(?:Shoes|shoes)\\b\", flags=re.IGNORECASE)\n",
    "    adidas = re.compile(r\"\\b(?:Adidas|adidas)\\b\", flags=re.IGNORECASE)\n",
    "\n",
    "    adidas_shoes[\"Product name\"] = adidas_shoes[\"Product name\"].replace(men,\"\").replace(women,\"\").replace(unisex,\"\").replace(shoes,\"\").replace(\"'s\",\"\").str.lstrip(\"'\").replace(adidas,\"\")"
   ]
  },
  {
   "cell_type": "code",
   "execution_count": 248,
   "metadata": {},
   "outputs": [],
   "source": [
    "adidas_shoes[\"Product name\"] = adidas_shoes[\"Product name\"].str.title()\n",
    "adidas_shoes[\"Category\"] = adidas_shoes[\"Category\"].str.title()\n",
    "column_order = [\"Product name\", \"Product id\", \"Listing price\", \"Gender\", \"Category\", \"Rating\", \"Reviews\"]\n",
    "adidas_shoes = adidas_shoes[column_order]"
   ]
  },
  {
   "cell_type": "code",
   "execution_count": 250,
   "metadata": {},
   "outputs": [
    {
     "name": "stdout",
     "output_type": "stream",
     "text": [
      "2624\n"
     ]
    }
   ],
   "source": [
    "def drop_duplicates():\n",
    "    adidas_shoes = adidas_shoes.drop_duplicates(subset=[\"Product id\", \"Product name\",\"Gender\"])"
   ]
  },
  {
   "cell_type": "code",
   "execution_count": 251,
   "metadata": {},
   "outputs": [],
   "source": [
    "adidas_shoes.to_csv('adidas_shoes.csv', index=False)"
   ]
  },
  {
   "cell_type": "markdown",
   "metadata": {},
   "source": [
    "### Scrapping of NIKE shoes"
   ]
  },
  {
   "cell_type": "code",
   "execution_count": 146,
   "metadata": {},
   "outputs": [
    {
     "data": {
      "text/plain": [
       "[<div class=\"product-grid__items css-hvew4t\" id=\"skip-to-products\"><div class=\"product-card product-grid__card css-1t0asop\" data-product-position=\"1\" data-testid=\"product-card\"><div class=\"product-card__body\" data-el-type=\"Card\" data-testid=\"product-card__body\"><figure><a class=\"product-card__link-overlay\" data-testid=\"product-card__link-overlay\" href=\"https://www.nike.com/es/t/air-max-pulse-marcus-rashford-zapatillas-dx5nwn/FV0390-100\" tabindex=\"-1\">Nike Air Max Pulse x Marcus Rashford</a><a aria-label=\"Nike Air Max Pulse x Marcus Rashford\" class=\"product-card__img-link-overlay\" data-el-type=\"Hero\" data-testid=\"product-card__img-link-overlay\" href=\"https://www.nike.com/es/t/air-max-pulse-marcus-rashford-zapatillas-dx5nwn/FV0390-100\"><div class=\"wall-image-loader css-1la3v4n\" data-testid=\"wall-image-loader\"><img alt=\"Nike Air Max Pulse x Marcus Rashford Zapatillas - Hombre\" class=\"product-card__hero-image css-1fxh5tw\" height=\"100%\" loading=\"lazy\" sizes=\"\" src=\"data:image/gif;base64,R0lGODlhAQABAIAAAAAAAP///yH5BAEAAAAALAAAAAABAAEAAAIBRAA7\" srcset=\"\" width=\"100%\"/><noscript><img alt=\"Nike Air Max Pulse x Marcus Rashford Zapatillas - Hombre\" class=\"product-card__hero-image css-1fxh5tw\" height=\"400\" loading=\"lazy\" width=\"400\"/></noscript></div></a><div class=\"product-card__info disable-animations for--product\"><div class=\"\"><div class=\"product-card__messaging accent--color\" data-testid=\"product-card__messaging\">Próximamente</div><div class=\"product-card__titles\"><div class=\"product-card__title\" id=\"Nike Air Max Pulse x Marcus Rashford\" role=\"link\">Nike Air Max Pulse x Marcus Rashford</div><div class=\"product-card__subtitle\" role=\"link\">Zapatillas - Hombre</div></div></div><div class=\"product-card__count-wrapper false false\" data-testid=\"product-card__count-wrapper \"><div class=\"product-card__count-item\"><button aria-expanded=\"false\" class=\"product-card__colorway-btn\" data-testid=\"product-card__colorway-btn\" type=\"button\"><div aria-label=\"Producto disponible en 1 color\" class=\"product-card__product-count\">1 color</div></button></div></div><div class=\"product-card__animation_wrapper\"><div class=\"product-card__price-wrapper\"><div class=\"product-card__price\" data-testid=\"product-card__price\" role=\"link\"><div class=\"product-price__wrapper css-9xqpgk\"><div class=\"product-price es__styling is--current-price css-11s12ax\" data-testid=\"product-price\" role=\"link\">169,99 €</div></div></div></div></div></div></figure></div></div><div class=\"product-card product-grid__card css-1t0asop\" data-product-position=\"2\" data-testid=\"product-card\"><div class=\"product-card__body\" data-el-type=\"Card\" data-testid=\"product-card__body\"><figure><a class=\"product-card__link-overlay\" data-testid=\"product-card__link-overlay\" href=\"https://www.nike.com/es/t/air-max-pulse-zapatillas-Kjd550/FV6653-001\" tabindex=\"-1\">Nike Air Max Pulse</a><a aria-label=\"Nike Air Max Pulse\" class=\"product-card__img-link-overlay\" data-el-type=\"Hero\" data-testid=\"product-card__img-link-overlay\" href=\"https://www.nike.com/es/t/air-max-pulse-zapatillas-Kjd550/FV6653-001\"><div class=\"wall-image-loader css-1la3v4n\" data-testid=\"wall-image-loader\"><img alt=\"Nike Air Max Pulse Zapatillas - Hombre\" class=\"product-card__hero-image css-1fxh5tw\" height=\"100%\" loading=\"lazy\" sizes=\"\" src=\"data:image/gif;base64,R0lGODlhAQABAIAAAAAAAP///yH5BAEAAAAALAAAAAABAAEAAAIBRAA7\" srcset=\"\" width=\"100%\"/><noscript><img alt=\"Nike Air Max Pulse Zapatillas - Hombre\" class=\"product-card__hero-image css-1fxh5tw\" height=\"400\" loading=\"lazy\" width=\"400\"/></noscript></div></a><div class=\"product-card__info disable-animations for--product\"><div class=\"\"><div class=\"product-card__messaging accent--color\" data-testid=\"product-card__messaging\">Lo último</div><div class=\"product-card__titles\"><div class=\"product-card__title\" id=\"Nike Air Max Pulse\" role=\"link\">Nike Air Max Pulse</div><div class=\"product-card__subtitle\" role=\"link\">Zapatillas - Hombre</div></div></div><div class=\"product-card__count-wrapper false false\" data-testid=\"product-card__count-wrapper \"><div class=\"product-card__count-item\"><button aria-expanded=\"false\" class=\"product-card__colorway-btn\" data-testid=\"product-card__colorway-btn\" type=\"button\"><div aria-label=\"Producto disponible en 1 color\" class=\"product-card__product-count\">1 color</div></button></div></div><div class=\"product-card__animation_wrapper\"><div class=\"product-card__price-wrapper\"><div class=\"product-card__price\" data-testid=\"product-card__price\" role=\"link\"><div class=\"product-price__wrapper css-9xqpgk\"><div class=\"product-price es__styling is--current-price css-11s12ax\" data-testid=\"product-price\" role=\"link\">159,99 €</div></div></div></div></div></div></figure></div></div><div class=\"product-card product-grid__card css-1t0asop\" data-product-position=\"3\" data-testid=\"product-card\"><div class=\"product-card__body\" data-el-type=\"Card\" data-testid=\"product-card__body\"><figure><a class=\"product-card__link-overlay\" data-testid=\"product-card__link-overlay\" href=\"https://www.nike.com/es/t/air-max-pulse-zapatillas-DtVTbL/DR0453-002\" tabindex=\"-1\">Nike Air Max Pulse</a><a aria-label=\"Nike Air Max Pulse\" class=\"product-card__img-link-overlay\" data-el-type=\"Hero\" data-testid=\"product-card__img-link-overlay\" href=\"https://www.nike.com/es/t/air-max-pulse-zapatillas-DtVTbL/DR0453-002\"><div class=\"wall-image-loader css-1la3v4n\" data-testid=\"wall-image-loader\"><img alt=\"Nike Air Max Pulse Zapatillas - Hombre\" class=\"product-card__hero-image css-1fxh5tw\" height=\"100%\" loading=\"lazy\" sizes=\"\" src=\"data:image/gif;base64,R0lGODlhAQABAIAAAAAAAP///yH5BAEAAAAALAAAAAABAAEAAAIBRAA7\" srcset=\"\" width=\"100%\"/><noscript><img alt=\"Nike Air Max Pulse Zapatillas - Hombre\" class=\"product-card__hero-image css-1fxh5tw\" height=\"400\" loading=\"lazy\" width=\"400\"/></noscript></div></a><div class=\"product-card__info disable-animations\"><div class=\"\"><div class=\"product-card__titles\"><div class=\"product-card__title\" id=\"Nike Air Max Pulse\" role=\"link\">Nike Air Max Pulse</div><div class=\"product-card__subtitle\" role=\"link\">Zapatillas - Hombre</div></div></div><div class=\"product-card__count-wrapper false false\" data-testid=\"product-card__count-wrapper \"><div class=\"product-card__count-item\"><button aria-expanded=\"false\" class=\"product-card__colorway-btn\" data-testid=\"product-card__colorway-btn\" type=\"button\"><div aria-label=\"Producto disponible en 5 colores\" class=\"product-card__product-count\">5 colores</div></button></div></div><div class=\"product-card__animation_wrapper\"><div class=\"product-card__price-wrapper\"><div class=\"product-card__price\" data-testid=\"product-card__price\" role=\"link\"><div class=\"product-price__wrapper css-9xqpgk\"><div class=\"product-price es__styling is--current-price css-11s12ax\" data-testid=\"product-price\" role=\"link\">159,99 €</div></div></div></div></div></div></figure></div></div><div class=\"product-card product-grid__card css-1t0asop\" data-product-position=\"4\" data-testid=\"product-card\"><div class=\"product-card__body\" data-el-type=\"Card\" data-testid=\"product-card__body\"><figure><a class=\"product-card__link-overlay\" data-testid=\"product-card__link-overlay\" href=\"https://www.nike.com/es/t/air-max-pulse-zapatillas-RBvjmK/FQ2436-001\" tabindex=\"-1\">Nike Air Max Pulse</a><a aria-label=\"Nike Air Max Pulse\" class=\"product-card__img-link-overlay\" data-el-type=\"Hero\" data-testid=\"product-card__img-link-overlay\" href=\"https://www.nike.com/es/t/air-max-pulse-zapatillas-RBvjmK/FQ2436-001\"><div class=\"wall-image-loader css-1la3v4n\" data-testid=\"wall-image-loader\"><img alt=\"Nike Air Max Pulse Zapatillas - Hombre\" class=\"product-card__hero-image css-1fxh5tw\" height=\"100%\" loading=\"lazy\" sizes=\"\" src=\"data:image/gif;base64,R0lGODlhAQABAIAAAAAAAP///yH5BAEAAAAALAAAAAABAAEAAAIBRAA7\" srcset=\"\" width=\"100%\"/><noscript><img alt=\"Nike Air Max Pulse Zapatillas - Hombre\" class=\"product-card__hero-image css-1fxh5tw\" height=\"400\" loading=\"lazy\" width=\"400\"/></noscript></div></a><div class=\"product-card__info disable-animations\"><div class=\"\"><div class=\"product-card__titles\"><div class=\"product-card__title\" id=\"Nike Air Max Pulse\" role=\"link\">Nike Air Max Pulse</div><div class=\"product-card__subtitle\" role=\"link\">Zapatillas - Hombre</div></div></div><div class=\"product-card__count-wrapper false false\" data-testid=\"product-card__count-wrapper \"><div class=\"product-card__count-item\"><button aria-expanded=\"false\" class=\"product-card__colorway-btn\" data-testid=\"product-card__colorway-btn\" type=\"button\"><div aria-label=\"Producto disponible en 1 color\" class=\"product-card__product-count\">1 color</div></button></div></div><div class=\"product-card__animation_wrapper\"><div class=\"product-card__price-wrapper\"><div class=\"product-card__price\" data-testid=\"product-card__price\" role=\"link\"><div class=\"product-price__wrapper css-9xqpgk\"><div class=\"product-price es__styling is--current-price css-11s12ax\" data-testid=\"product-price\" role=\"link\">169,99 €</div></div></div></div></div></div></figure></div></div><div class=\"product-card product-grid__card css-1t0asop\" data-product-position=\"5\" data-testid=\"product-card\"><div class=\"product-card__body\" data-el-type=\"Card\" data-testid=\"product-card__body\"><figure><a class=\"product-card__link-overlay\" data-testid=\"product-card__link-overlay\" href=\"https://www.nike.com/es/t/air-max-pulse-zapatillas-f2h8p7/FD6409-101\" tabindex=\"-1\">Nike Air Max Pulse</a><a aria-label=\"Nike Air Max Pulse\" class=\"product-card__img-link-overlay\" data-el-type=\"Hero\" data-testid=\"product-card__img-link-overlay\" href=\"https://www.nike.com/es/t/air-max-pulse-zapatillas-f2h8p7/FD6409-101\"><div class=\"wall-image-loader css-1la3v4n\" data-testid=\"wall-image-loader\"><img alt=\"Nike Air Max Pulse Zapatillas - Mujer\" class=\"product-card__hero-image css-1fxh5tw\" height=\"100%\" loading=\"lazy\" sizes=\"\" src=\"data:image/gif;base64,R0lGODlhAQABAIAAAAAAAP///yH5BAEAAAAALAAAAAABAAEAAAIBRAA7\" srcset=\"\" width=\"100%\"/><noscript><img alt=\"Nike Air Max Pulse Zapatillas - Mujer\" class=\"product-card__hero-image css-1fxh5tw\" height=\"400\" loading=\"lazy\" width=\"400\"/></noscript></div></a><div class=\"product-card__info disable-animations\"><div class=\"\"><div class=\"product-card__titles\"><div class=\"product-card__title\" id=\"Nike Air Max Pulse\" role=\"link\">Nike Air Max Pulse</div><div class=\"product-card__subtitle\" role=\"link\">Zapatillas - Mujer</div></div></div><div class=\"product-card__count-wrapper false false\" data-testid=\"product-card__count-wrapper \"><div class=\"product-card__count-item\"><button aria-expanded=\"false\" class=\"product-card__colorway-btn\" data-testid=\"product-card__colorway-btn\" type=\"button\"><div aria-label=\"Producto disponible en 6 colores\" class=\"product-card__product-count\">6 colores</div></button></div></div><div class=\"product-card__animation_wrapper\"><div class=\"product-card__price-wrapper\"><div class=\"product-card__price\" data-testid=\"product-card__price\" role=\"link\"><div class=\"product-price__wrapper css-9xqpgk\"><div class=\"product-price es__styling is--current-price css-11s12ax\" data-testid=\"product-price\" role=\"link\">159,99 €</div></div></div></div></div></div></figure></div></div><div class=\"product-card product-grid__card css-1t0asop\" data-product-position=\"6\" data-testid=\"product-card\"><div class=\"product-card__body\" data-el-type=\"Card\" data-testid=\"product-card__body\"><figure><a class=\"product-card__link-overlay\" data-testid=\"product-card__link-overlay\" href=\"https://www.nike.com/es/t/air-max-plus-zapatillas-S7dFMv/FV0385-001\" tabindex=\"-1\">Nike Air Max Plus</a><a aria-label=\"Nike Air Max Plus\" class=\"product-card__img-link-overlay\" data-el-type=\"Hero\" data-testid=\"product-card__img-link-overlay\" href=\"https://www.nike.com/es/t/air-max-plus-zapatillas-S7dFMv/FV0385-001\"><div class=\"wall-image-loader css-1la3v4n\" data-testid=\"wall-image-loader\"><img alt=\"Nike Air Max Plus Zapatillas - Hombre\" class=\"product-card__hero-image css-1fxh5tw\" height=\"100%\" loading=\"lazy\" sizes=\"\" src=\"data:image/gif;base64,R0lGODlhAQABAIAAAAAAAP///yH5BAEAAAAALAAAAAABAAEAAAIBRAA7\" srcset=\"\" width=\"100%\"/><noscript><img alt=\"Nike Air Max Plus Zapatillas - Hombre\" class=\"product-card__hero-image css-1fxh5tw\" height=\"400\" loading=\"lazy\" width=\"400\"/></noscript></div></a><div class=\"product-card__info disable-animations for--product\"><div class=\"\"><div class=\"product-card__messaging accent--color\" data-testid=\"product-card__messaging\">Producto para Members</div><div class=\"product-card__titles\"><div class=\"product-card__title\" id=\"Nike Air Max Plus\" role=\"link\">Nike Air Max Plus</div><div class=\"product-card__subtitle\" role=\"link\">Zapatillas - Hombre</div></div></div><div class=\"product-card__count-wrapper false false\" data-testid=\"product-card__count-wrapper \"><div class=\"product-card__count-item\"><button aria-expanded=\"false\" class=\"product-card__colorway-btn\" data-testid=\"product-card__colorway-btn\" type=\"button\"><div aria-label=\"Producto disponible en 1 color\" class=\"product-card__product-count\">1 color</div></button></div></div><div class=\"product-card__animation_wrapper\"><div class=\"product-card__price-wrapper\"><div class=\"product-card__price\" data-testid=\"product-card__price\" role=\"link\"><div class=\"product-price__wrapper css-9xqpgk\"><div class=\"product-price es__styling is--current-price css-11s12ax\" data-testid=\"product-price\" role=\"link\">199,99 €</div></div></div></div></div></div></figure></div></div><div class=\"product-card product-grid__card css-1t0asop\" data-product-position=\"7\" data-testid=\"product-card\"><div class=\"product-card__body\" data-el-type=\"Card\" data-testid=\"product-card__body\"><figure><a class=\"product-card__link-overlay\" data-testid=\"product-card__link-overlay\" href=\"https://www.nike.com/es/t/air-max-95-zapatillas-D0zN18/FV4710-100\" tabindex=\"-1\">Nike Air Max 95</a><a aria-label=\"Nike Air Max 95\" class=\"product-card__img-link-overlay\" data-el-type=\"Hero\" data-testid=\"product-card__img-link-overlay\" href=\"https://www.nike.com/es/t/air-max-95-zapatillas-D0zN18/FV4710-100\"><div class=\"wall-image-loader css-1la3v4n\" data-testid=\"wall-image-loader\"><img alt=\"Nike Air Max 95 Zapatillas - Hombre\" class=\"product-card__hero-image css-1fxh5tw\" height=\"100%\" loading=\"lazy\" sizes=\"\" src=\"data:image/gif;base64,R0lGODlhAQABAIAAAAAAAP///yH5BAEAAAAALAAAAAABAAEAAAIBRAA7\" srcset=\"\" width=\"100%\"/><noscript><img alt=\"Nike Air Max 95 Zapatillas - Hombre\" class=\"product-card__hero-image css-1fxh5tw\" height=\"400\" loading=\"lazy\" width=\"400\"/></noscript></div></a><div class=\"product-card__info disable-animations\"><div class=\"\"><div class=\"product-card__titles\"><div class=\"product-card__title\" id=\"Nike Air Max 95\" role=\"link\">Nike Air Max 95</div><div class=\"product-card__subtitle\" role=\"link\">Zapatillas - Hombre</div></div></div><div class=\"product-card__count-wrapper false false\" data-testid=\"product-card__count-wrapper \"><div class=\"product-card__count-item\"><button aria-expanded=\"false\" class=\"product-card__colorway-btn\" data-testid=\"product-card__colorway-btn\" type=\"button\"><div aria-label=\"Producto disponible en 1 color\" class=\"product-card__product-count\">1 color</div></button></div></div><div class=\"product-card__animation_wrapper\"><div class=\"product-card__price-wrapper\"><div class=\"product-card__price\" data-testid=\"product-card__price\" role=\"link\"><div class=\"product-price__wrapper css-9xqpgk\"><div class=\"product-price es__styling is--current-price css-11s12ax\" data-testid=\"product-price\" role=\"link\">189,99 €</div></div></div></div></div></div></figure></div></div><div class=\"product-card product-grid__card css-1t0asop\" data-product-position=\"8\" data-testid=\"product-card\"><div class=\"product-card__body\" data-el-type=\"Card\" data-testid=\"product-card__body\"><figure><a class=\"product-card__link-overlay\" data-testid=\"product-card__link-overlay\" href=\"https://www.nike.com/es/t/air-max-1-zapatillas-FqGhHQ/FD9082-102\" tabindex=\"-1\">Nike Air Max 1</a><a aria-label=\"Nike Air Max 1\" class=\"product-card__img-link-overlay\" data-el-type=\"Hero\" data-testid=\"product-card__img-link-overlay\" href=\"https://www.nike.com/es/t/air-max-1-zapatillas-FqGhHQ/FD9082-102\"><div class=\"wall-image-loader css-1la3v4n\" data-testid=\"wall-image-loader\"><img alt=\"Nike Air Max 1 Zapatillas - Hombre\" class=\"product-card__hero-image css-1fxh5tw\" height=\"100%\" loading=\"lazy\" sizes=\"\" src=\"data:image/gif;base64,R0lGODlhAQABAIAAAAAAAP///yH5BAEAAAAALAAAAAABAAEAAAIBRAA7\" srcset=\"\" width=\"100%\"/><noscript><img alt=\"Nike Air Max 1 Zapatillas - Hombre\" class=\"product-card__hero-image css-1fxh5tw\" height=\"400\" loading=\"lazy\" width=\"400\"/></noscript></div></a><div class=\"product-card__info disable-animations\"><div class=\"\"><div class=\"product-card__titles\"><div class=\"product-card__title\" id=\"Nike Air Max 1\" role=\"link\">Nike Air Max 1</div><div class=\"product-card__subtitle\" role=\"link\">Zapatillas - Hombre</div></div></div><div class=\"product-card__count-wrapper false false\" data-testid=\"product-card__count-wrapper \"><div class=\"product-card__count-item\"><button aria-expanded=\"false\" class=\"product-card__colorway-btn\" data-testid=\"product-card__colorway-btn\" type=\"button\"><div aria-label=\"Producto disponible en 1 color\" class=\"product-card__product-count\">1 color</div></button></div></div><div class=\"product-card__animation_wrapper\"><div class=\"product-card__price-wrapper\"><div class=\"product-card__price\" data-testid=\"product-card__price\" role=\"link\"><div class=\"product-price__wrapper css-9xqpgk\"><div class=\"product-price es__styling is--current-price css-11s12ax\" data-testid=\"product-price\" role=\"link\">149,99 €</div></div></div></div></div></div></figure></div></div><div class=\"product-card product-grid__card css-1t0asop\" data-product-position=\"9\" data-testid=\"product-card\"><div class=\"product-card__body\" data-el-type=\"Card\" data-testid=\"product-card__body\"><figure><a class=\"product-card__link-overlay\" data-testid=\"product-card__link-overlay\" href=\"https://www.nike.com/es/t/air-max-1-zapatillas-nino-a-d2HtVS/DZ3307-002\" tabindex=\"-1\">Air Max 1</a><a aria-label=\"Air Max 1\" class=\"product-card__img-link-overlay\" data-el-type=\"Hero\" data-testid=\"product-card__img-link-overlay\" href=\"https://www.nike.com/es/t/air-max-1-zapatillas-nino-a-d2HtVS/DZ3307-002\"><div class=\"wall-image-loader css-1la3v4n\" data-testid=\"wall-image-loader\"><img alt=\"Air Max 1 Zapatillas - Niño/a\" class=\"product-card__hero-image css-1fxh5tw\" height=\"100%\" loading=\"lazy\" sizes=\"\" src=\"data:image/gif;base64,R0lGODlhAQABAIAAAAAAAP///yH5BAEAAAAALAAAAAABAAEAAAIBRAA7\" srcset=\"\" width=\"100%\"/><noscript><img alt=\"Air Max 1 Zapatillas - Niño/a\" class=\"product-card__hero-image css-1fxh5tw\" height=\"400\" loading=\"lazy\" width=\"400\"/></noscript></div></a><div class=\"product-card__info disable-animations\"><div class=\"\"><div class=\"product-card__titles\"><div class=\"product-card__title\" id=\"Air Max 1\" role=\"link\">Air Max 1</div><div class=\"product-card__subtitle\" role=\"link\">Zapatillas - Niño/a</div></div></div><div class=\"product-card__count-wrapper false false\" data-testid=\"product-card__count-wrapper \"><div class=\"product-card__count-item\"><button aria-expanded=\"false\" class=\"product-card__colorway-btn\" data-testid=\"product-card__colorway-btn\" type=\"button\"><div aria-label=\"Producto disponible en 4 colores\" class=\"product-card__product-count\">4 colores</div></button></div></div><div class=\"product-card__animation_wrapper\"><div class=\"product-card__price-wrapper\"><div class=\"product-card__price\" data-testid=\"product-card__price\" role=\"link\"><div class=\"product-price__wrapper css-9xqpgk\"><div class=\"product-price es__styling is--current-price css-11s12ax\" data-testid=\"product-price\" role=\"link\">119,99 €</div></div></div></div></div></div></figure></div></div><div class=\"product-card product-grid__card css-1t0asop\" data-product-position=\"10\" data-testid=\"product-card\"><div class=\"product-card__body\" data-el-type=\"Card\" data-testid=\"product-card__body\"><figure><a class=\"product-card__link-overlay\" data-testid=\"product-card__link-overlay\" href=\"https://www.nike.com/es/t/air-max-1-zapatillas-nino-a-Tvfq1T/DZ3307-003\" tabindex=\"-1\">Air Max 1</a><a aria-label=\"Air Max 1\" class=\"product-card__img-link-overlay\" data-el-type=\"Hero\" data-testid=\"product-card__img-link-overlay\" href=\"https://www.nike.com/es/t/air-max-1-zapatillas-nino-a-Tvfq1T/DZ3307-003\"><div class=\"wall-image-loader css-1la3v4n\" data-testid=\"wall-image-loader\"><img alt=\"Air Max 1 Zapatillas - Niño/a\" class=\"product-card__hero-image css-1fxh5tw\" height=\"100%\" loading=\"lazy\" sizes=\"\" src=\"data:image/gif;base64,R0lGODlhAQABAIAAAAAAAP///yH5BAEAAAAALAAAAAABAAEAAAIBRAA7\" srcset=\"\" width=\"100%\"/><noscript><img alt=\"Air Max 1 Zapatillas - Niño/a\" class=\"product-card__hero-image css-1fxh5tw\" height=\"400\" loading=\"lazy\" width=\"400\"/></noscript></div></a><div class=\"product-card__info disable-animations\"><div class=\"\"><div class=\"product-card__titles\"><div class=\"product-card__title\" id=\"Air Max 1\" role=\"link\">Air Max 1</div><div class=\"product-card__subtitle\" role=\"link\">Zapatillas - Niño/a</div></div></div><div class=\"product-card__count-wrapper false false\" data-testid=\"product-card__count-wrapper \"><div class=\"product-card__count-item\"><button aria-expanded=\"false\" class=\"product-card__colorway-btn\" data-testid=\"product-card__colorway-btn\" type=\"button\"><div aria-label=\"Producto disponible en 1 color\" class=\"product-card__product-count\">1 color</div></button></div></div><div class=\"product-card__animation_wrapper\"><div class=\"product-card__price-wrapper\"><div class=\"product-card__price\" data-testid=\"product-card__price\" role=\"link\"><div class=\"product-price__wrapper css-9xqpgk\"><div class=\"product-price es__styling is--current-price css-11s12ax\" data-testid=\"product-price\" role=\"link\">119,99 €</div></div></div></div></div></div></figure></div></div><div class=\"product-card product-grid__card css-1t0asop\" data-product-position=\"11\" data-testid=\"product-card\"><div class=\"product-card__body\" data-el-type=\"Card\" data-testid=\"product-card__body\"><figure><a class=\"product-card__link-overlay\" data-testid=\"product-card__link-overlay\" href=\"https://www.nike.com/es/t/air-max-plus-3-zapatillas-xxj230/FV0386-001\" tabindex=\"-1\">Nike Air Max Plus 3</a><a aria-label=\"Nike Air Max Plus 3\" class=\"product-card__img-link-overlay\" data-el-type=\"Hero\" data-testid=\"product-card__img-link-overlay\" href=\"https://www.nike.com/es/t/air-max-plus-3-zapatillas-xxj230/FV0386-001\"><div class=\"wall-image-loader css-1la3v4n\" data-testid=\"wall-image-loader\"><img alt=\"Nike Air Max Plus 3 Zapatillas - Hombre\" class=\"product-card__hero-image css-1fxh5tw\" height=\"100%\" loading=\"lazy\" sizes=\"\" src=\"data:image/gif;base64,R0lGODlhAQABAIAAAAAAAP///yH5BAEAAAAALAAAAAABAAEAAAIBRAA7\" srcset=\"\" width=\"100%\"/><noscript><img alt=\"Nike Air Max Plus 3 Zapatillas - Hombre\" class=\"product-card__hero-image css-1fxh5tw\" height=\"400\" loading=\"lazy\" width=\"400\"/></noscript></div></a><div class=\"product-card__info disable-animations for--product\"><div class=\"\"><div class=\"product-card__messaging accent--color\" data-testid=\"product-card__messaging\">Producto para Members</div><div class=\"product-card__titles\"><div class=\"product-card__title\" id=\"Nike Air Max Plus 3\" role=\"link\">Nike Air Max Plus 3</div><div class=\"product-card__subtitle\" role=\"link\">Zapatillas - Hombre</div></div></div><div class=\"product-card__count-wrapper false false\" data-testid=\"product-card__count-wrapper \"><div class=\"product-card__count-item\"><button aria-expanded=\"false\" class=\"product-card__colorway-btn\" data-testid=\"product-card__colorway-btn\" type=\"button\"><div aria-label=\"Producto disponible en 1 color\" class=\"product-card__product-count\">1 color</div></button></div></div><div class=\"product-card__animation_wrapper\"><div class=\"product-card__price-wrapper\"><div class=\"product-card__price\" data-testid=\"product-card__price\" role=\"link\"><div class=\"product-price__wrapper css-9xqpgk\"><div class=\"product-price es__styling is--current-price css-11s12ax\" data-testid=\"product-price\" role=\"link\">199,99 €</div></div></div></div></div></div></figure></div></div><div class=\"product-card product-grid__card css-1t0asop\" data-product-position=\"12\" data-testid=\"product-card\"><div class=\"product-card__body\" data-el-type=\"Card\" data-testid=\"product-card__body\"><figure><a class=\"product-card__link-overlay\" data-testid=\"product-card__link-overlay\" href=\"https://www.nike.com/es/t/air-max-90-zapatillas-bVD4kw/FV0387-001\" tabindex=\"-1\">Nike Air Max 90</a><a aria-label=\"Nike Air Max 90\" class=\"product-card__img-link-overlay\" data-el-type=\"Hero\" data-testid=\"product-card__img-link-overlay\" href=\"https://www.nike.com/es/t/air-max-90-zapatillas-bVD4kw/FV0387-001\"><div class=\"wall-image-loader css-1la3v4n\" data-testid=\"wall-image-loader\"><img alt=\"Nike Air Max 90 Zapatillas - Hombre\" class=\"product-card__hero-image css-1fxh5tw\" height=\"100%\" loading=\"lazy\" sizes=\"\" src=\"data:image/gif;base64,R0lGODlhAQABAIAAAAAAAP///yH5BAEAAAAALAAAAAABAAEAAAIBRAA7\" srcset=\"\" width=\"100%\"/><noscript><img alt=\"Nike Air Max 90 Zapatillas - Hombre\" class=\"product-card__hero-image css-1fxh5tw\" height=\"400\" loading=\"lazy\" width=\"400\"/></noscript></div></a><div class=\"product-card__info disable-animations for--product\"><div class=\"\"><div class=\"product-card__messaging accent--color\" data-testid=\"product-card__messaging\">Producto para Members</div><div class=\"product-card__titles\"><div class=\"product-card__title\" id=\"Nike Air Max 90\" role=\"link\">Nike Air Max 90</div><div class=\"product-card__subtitle\" role=\"link\">Zapatillas - Hombre</div></div></div><div class=\"product-card__count-wrapper false false\" data-testid=\"product-card__count-wrapper \"><div class=\"product-card__count-item\"><button aria-expanded=\"false\" class=\"product-card__colorway-btn\" data-testid=\"product-card__colorway-btn\" type=\"button\"><div aria-label=\"Producto disponible en 1 color\" class=\"product-card__product-count\">1 color</div></button></div></div><div class=\"product-card__animation_wrapper\"><div class=\"product-card__price-wrapper\"><div class=\"product-card__price\" data-testid=\"product-card__price\" role=\"link\"><div class=\"product-price__wrapper css-9xqpgk\"><div class=\"product-price es__styling is--current-price css-11s12ax\" data-testid=\"product-price\" role=\"link\">169,99 €</div></div></div></div></div></div></figure></div></div><div class=\"product-card product-grid__card css-1t0asop\" data-product-position=\"13\" data-testid=\"product-card\"><div class=\"product-card__body\" data-el-type=\"Card\" data-testid=\"product-card__body\"><figure><a class=\"product-card__link-overlay\" data-testid=\"product-card__link-overlay\" href=\"https://www.nike.com/es/t/air-max-plus-zapatillas-LWzXNs/DM2362-100\" tabindex=\"-1\">Nike Air Max Plus</a><a aria-label=\"Nike Air Max Plus\" class=\"product-card__img-link-overlay\" data-el-type=\"Hero\" data-testid=\"product-card__img-link-overlay\" href=\"https://www.nike.com/es/t/air-max-plus-zapatillas-LWzXNs/DM2362-100\"><div class=\"wall-image-loader css-1la3v4n\" data-testid=\"wall-image-loader\"><img alt=\"Nike Air Max Plus Zapatillas - Mujer\" class=\"product-card__hero-image css-1fxh5tw\" height=\"100%\" loading=\"lazy\" sizes=\"\" src=\"data:image/gif;base64,R0lGODlhAQABAIAAAAAAAP///yH5BAEAAAAALAAAAAABAAEAAAIBRAA7\" srcset=\"\" width=\"100%\"/><noscript><img alt=\"Nike Air Max Plus Zapatillas - Mujer\" class=\"product-card__hero-image css-1fxh5tw\" height=\"400\" loading=\"lazy\" width=\"400\"/></noscript></div></a><div class=\"product-card__info disable-animations for--product\"><div class=\"\"><div class=\"product-card__messaging accent--color\" data-testid=\"product-card__messaging\">Superventas</div><div class=\"product-card__titles\"><div class=\"product-card__title\" id=\"Nike Air Max Plus\" role=\"link\">Nike Air Max Plus</div><div class=\"product-card__subtitle\" role=\"link\">Zapatillas - Mujer</div></div></div><div class=\"product-card__count-wrapper false false\" data-testid=\"product-card__count-wrapper \"><div class=\"product-card__count-item\"><button aria-expanded=\"false\" class=\"product-card__colorway-btn\" data-testid=\"product-card__colorway-btn\" type=\"button\"><div aria-label=\"Producto disponible en 2 colores\" class=\"product-card__product-count\">2 colores</div></button></div></div><div class=\"product-card__animation_wrapper\"><div class=\"product-card__price-wrapper\"><div class=\"product-card__price\" data-testid=\"product-card__price\" role=\"link\"><div class=\"product-price__wrapper css-9xqpgk\"><div class=\"product-price es__styling is--current-price css-11s12ax\" data-testid=\"product-price\" role=\"link\">189,99 €</div></div></div></div></div></div></figure></div></div><div class=\"product-card product-grid__card css-1t0asop\" data-product-position=\"14\" data-testid=\"product-card\"><div class=\"product-card__body\" data-el-type=\"Card\" data-testid=\"product-card__body\"><figure><a class=\"product-card__link-overlay\" data-testid=\"product-card__link-overlay\" href=\"https://www.nike.com/es/t/air-max-plus-zapatillas-dT9k7p/604133-139\" tabindex=\"-1\">Nike Air Max Plus</a><a aria-label=\"Nike Air Max Plus\" class=\"product-card__img-link-overlay\" data-el-type=\"Hero\" data-testid=\"product-card__img-link-overlay\" href=\"https://www.nike.com/es/t/air-max-plus-zapatillas-dT9k7p/604133-139\"><div class=\"wall-image-loader css-1la3v4n\" data-testid=\"wall-image-loader\"><img alt=\"Nike Air Max Plus Zapatillas - Hombre\" class=\"product-card__hero-image css-1fxh5tw\" height=\"100%\" loading=\"lazy\" sizes=\"\" src=\"data:image/gif;base64,R0lGODlhAQABAIAAAAAAAP///yH5BAEAAAAALAAAAAABAAEAAAIBRAA7\" srcset=\"\" width=\"100%\"/><noscript><img alt=\"Nike Air Max Plus Zapatillas - Hombre\" class=\"product-card__hero-image css-1fxh5tw\" height=\"400\" loading=\"lazy\" width=\"400\"/></noscript></div></a><div class=\"product-card__info disable-animations for--product\"><div class=\"\"><div class=\"product-card__messaging accent--color\" data-testid=\"product-card__messaging\">Superventas</div><div class=\"product-card__titles\"><div class=\"product-card__title\" id=\"Nike Air Max Plus\" role=\"link\">Nike Air Max Plus</div><div class=\"product-card__subtitle\" role=\"link\">Zapatillas - Hombre</div></div></div><div class=\"product-card__count-wrapper false false\" data-testid=\"product-card__count-wrapper \"><div class=\"product-card__count-item\"><button aria-expanded=\"false\" class=\"product-card__colorway-btn\" data-testid=\"product-card__colorway-btn\" type=\"button\"><div aria-label=\"Producto disponible en 2 colores\" class=\"product-card__product-count\">2 colores</div></button></div></div><div class=\"product-card__animation_wrapper\"><div class=\"product-card__price-wrapper\"><div class=\"product-card__price\" data-testid=\"product-card__price\" role=\"link\"><div class=\"product-price__wrapper css-9xqpgk\"><div class=\"product-price es__styling is--current-price css-11s12ax\" data-testid=\"product-price\" role=\"link\">189,99 €</div></div></div></div></div></div></figure></div></div><div class=\"product-card product-grid__card css-1t0asop\" data-product-position=\"15\" data-testid=\"product-card\"><div class=\"product-card__body\" data-el-type=\"Card\" data-testid=\"product-card__body\"><figure><a class=\"product-card__link-overlay\" data-testid=\"product-card__link-overlay\" href=\"https://www.nike.com/es/t/air-max-1-easyon-zapatillas-nino-a-pequeno-a-wmZlzt/DZ3308-003\" tabindex=\"-1\">Nike Air Max 1 EasyOn</a><a aria-label=\"Nike Air Max 1 EasyOn\" class=\"product-card__img-link-overlay\" data-el-type=\"Hero\" data-testid=\"product-card__img-link-overlay\" href=\"https://www.nike.com/es/t/air-max-1-easyon-zapatillas-nino-a-pequeno-a-wmZlzt/DZ3308-003\"><div class=\"wall-image-loader css-1la3v4n\" data-testid=\"wall-image-loader\"><img alt=\"Nike Air Max 1 EasyOn Zapatillas - Niño/a pequeño/a\" class=\"product-card__hero-image css-1fxh5tw\" height=\"100%\" loading=\"lazy\" sizes=\"\" src=\"data:image/gif;base64,R0lGODlhAQABAIAAAAAAAP///yH5BAEAAAAALAAAAAABAAEAAAIBRAA7\" srcset=\"\" width=\"100%\"/><noscript><img alt=\"Nike Air Max 1 EasyOn Zapatillas - Niño/a pequeño/a\" class=\"product-card__hero-image css-1fxh5tw\" height=\"400\" loading=\"lazy\" width=\"400\"/></noscript></div></a><div class=\"product-card__info disable-animations for--product\"><div class=\"\"><div class=\"product-card__messaging accent--color\" data-testid=\"product-card__messaging\">Materiales sostenibles</div><div class=\"product-card__titles\"><div class=\"product-card__title\" id=\"Nike Air Max 1 EasyOn\" role=\"link\">Nike Air Max 1 EasyOn</div><div class=\"product-card__subtitle\" role=\"link\">Zapatillas - Niño/a pequeño/a</div></div></div><div class=\"product-card__count-wrapper false false\" data-testid=\"product-card__count-wrapper \"><div class=\"product-card__count-item\"><button aria-expanded=\"false\" class=\"product-card__colorway-btn\" data-testid=\"product-card__colorway-btn\" type=\"button\"><div aria-label=\"Producto disponible en 2 colores\" class=\"product-card__product-count\">2 colores</div></button></div></div><div class=\"product-card__animation_wrapper\"><div class=\"product-card__price-wrapper\"><div class=\"product-card__price\" data-testid=\"product-card__price\" role=\"link\"><div class=\"product-price__wrapper css-9xqpgk\"><div class=\"product-price es__styling is--current-price css-11s12ax\" data-testid=\"product-price\" role=\"link\">84,99 €</div></div></div></div></div></div></figure></div></div><div class=\"product-card product-grid__card css-1t0asop\" data-product-position=\"16\" data-testid=\"product-card\"><div class=\"product-card__body\" data-el-type=\"Card\" data-testid=\"product-card__body\"><figure><a class=\"product-card__link-overlay\" data-testid=\"product-card__link-overlay\" href=\"https://www.nike.com/es/t/air-max-1-easyon-zapatillas-e-fN5Whl/DZ3309-003\" tabindex=\"-1\">Air Max 1 EasyOn</a><a aria-label=\"Air Max 1 EasyOn\" class=\"product-card__img-link-overlay\" data-el-type=\"Hero\" data-testid=\"product-card__img-link-overlay\" href=\"https://www.nike.com/es/t/air-max-1-easyon-zapatillas-e-fN5Whl/DZ3309-003\"><div class=\"wall-image-loader css-1la3v4n\" data-testid=\"wall-image-loader\"><img alt=\"Air Max 1 EasyOn Zapatillas - Bebé e infantil\" class=\"product-card__hero-image css-1fxh5tw\" height=\"100%\" loading=\"lazy\" sizes=\"\" src=\"data:image/gif;base64,R0lGODlhAQABAIAAAAAAAP///yH5BAEAAAAALAAAAAABAAEAAAIBRAA7\" srcset=\"\" width=\"100%\"/><noscript><img alt=\"Air Max 1 EasyOn Zapatillas - Bebé e infantil\" class=\"product-card__hero-image css-1fxh5tw\" height=\"400\" loading=\"lazy\" width=\"400\"/></noscript></div></a><div class=\"product-card__info disable-animations\"><div class=\"\"><div class=\"product-card__titles\"><div class=\"product-card__title\" id=\"Air Max 1 EasyOn\" role=\"link\">Air Max 1 EasyOn</div><div class=\"product-card__subtitle\" role=\"link\">Zapatillas - Bebé e infantil</div></div></div><div class=\"product-card__count-wrapper false false\" data-testid=\"product-card__count-wrapper \"><div class=\"product-card__count-item\"><button aria-expanded=\"false\" class=\"product-card__colorway-btn\" data-testid=\"product-card__colorway-btn\" type=\"button\"><div aria-label=\"Producto disponible en 1 color\" class=\"product-card__product-count\">1 color</div></button></div></div><div class=\"product-card__animation_wrapper\"><div class=\"product-card__price-wrapper\"><div class=\"product-card__price\" data-testid=\"product-card__price\" role=\"link\"><div class=\"product-price__wrapper css-9xqpgk\"><div class=\"product-price es__styling is--current-price css-11s12ax\" data-testid=\"product-price\" role=\"link\">69,99 €</div></div></div></div></div></div></figure></div></div><div class=\"product-card product-grid__card css-1t0asop\" data-product-position=\"17\" data-testid=\"product-card\"><div class=\"product-card__body\" data-el-type=\"Card\" data-testid=\"product-card__body\"><figure><a class=\"product-card__link-overlay\" data-testid=\"product-card__link-overlay\" href=\"https://www.nike.com/es/t/air-max-plus-zapatillas-nino-a-ZlFMXW/CD0609-001\" tabindex=\"-1\">Nike Air Max Plus</a><a aria-label=\"Nike Air Max Plus\" class=\"product-card__img-link-overlay\" data-el-type=\"Hero\" data-testid=\"product-card__img-link-overlay\" href=\"https://www.nike.com/es/t/air-max-plus-zapatillas-nino-a-ZlFMXW/CD0609-001\"><div class=\"wall-image-loader css-1la3v4n\" data-testid=\"wall-image-loader\"><img alt=\"Nike Air Max Plus Zapatillas - Niño/a\" class=\"product-card__hero-image css-1fxh5tw\" height=\"100%\" loading=\"lazy\" sizes=\"\" src=\"data:image/gif;base64,R0lGODlhAQABAIAAAAAAAP///yH5BAEAAAAALAAAAAABAAEAAAIBRAA7\" srcset=\"\" width=\"100%\"/><noscript><img alt=\"Nike Air Max Plus Zapatillas - Niño/a\" class=\"product-card__hero-image css-1fxh5tw\" height=\"400\" loading=\"lazy\" width=\"400\"/></noscript></div></a><div class=\"product-card__info disable-animations for--product\"><div class=\"\"><div class=\"product-card__messaging accent--color\" data-testid=\"product-card__messaging\">Superventas</div><div class=\"product-card__titles\"><div class=\"product-card__title\" id=\"Nike Air Max Plus\" role=\"link\">Nike Air Max Plus</div><div class=\"product-card__subtitle\" role=\"link\">Zapatillas - Niño/a</div></div></div><div class=\"product-card__count-wrapper false false\" data-testid=\"product-card__count-wrapper \"><div class=\"product-card__count-item\"><button aria-expanded=\"false\" class=\"product-card__colorway-btn\" data-testid=\"product-card__colorway-btn\" type=\"button\"><div aria-label=\"Producto disponible en 5 colores\" class=\"product-card__product-count\">5 colores</div></button></div></div><div class=\"product-card__animation_wrapper\"><div class=\"product-card__price-wrapper\"><div class=\"product-card__price\" data-testid=\"product-card__price\" role=\"link\"><div class=\"product-price__wrapper css-9xqpgk\"><div class=\"product-price es__styling is--current-price css-11s12ax\" data-testid=\"product-price\" role=\"link\">144,99 €</div></div></div></div></div></div></figure></div></div><div class=\"product-card product-grid__card css-1t0asop\" data-product-position=\"18\" data-testid=\"product-card\"><div class=\"product-card__body\" data-el-type=\"Card\" data-testid=\"product-card__body\"><figure><a class=\"product-card__link-overlay\" data-testid=\"product-card__link-overlay\" href=\"https://www.nike.com/es/t/air-max-furyosa-zapatillas-RS4D89/CZ4149-400\" tabindex=\"-1\">Nike Air Max Furyosa</a><a aria-label=\"Nike Air Max Furyosa\" class=\"product-card__img-link-overlay\" data-el-type=\"Hero\" data-testid=\"product-card__img-link-overlay\" href=\"https://www.nike.com/es/t/air-max-furyosa-zapatillas-RS4D89/CZ4149-400\"><div class=\"wall-image-loader css-1la3v4n\" data-testid=\"wall-image-loader\"><img alt=\"Nike Air Max Furyosa Zapatillas - Mujer\" class=\"product-card__hero-image css-1fxh5tw\" height=\"100%\" loading=\"lazy\" sizes=\"\" src=\"data:image/gif;base64,R0lGODlhAQABAIAAAAAAAP///yH5BAEAAAAALAAAAAABAAEAAAIBRAA7\" srcset=\"\" width=\"100%\"/><noscript><img alt=\"Nike Air Max Furyosa Zapatillas - Mujer\" class=\"product-card__hero-image css-1fxh5tw\" height=\"400\" loading=\"lazy\" width=\"400\"/></noscript></div></a><div class=\"product-card__info disable-animations\"><div class=\"\"><div class=\"product-card__titles\"><div class=\"product-card__title\" id=\"Nike Air Max Furyosa\" role=\"link\">Nike Air Max Furyosa</div><div class=\"product-card__subtitle\" role=\"link\">Zapatillas - Mujer</div></div></div><div class=\"product-card__count-wrapper false false\" data-testid=\"product-card__count-wrapper \"><div class=\"product-card__count-item\"><button aria-expanded=\"false\" class=\"product-card__colorway-btn\" data-testid=\"product-card__colorway-btn\" type=\"button\"><div aria-label=\"Producto disponible en 1 color\" class=\"product-card__product-count\">1 color</div></button></div></div><div class=\"product-card__animation_wrapper\"><div class=\"product-card__price-wrapper\"><div class=\"product-card__price\" data-testid=\"product-card__price\" role=\"link\"><div class=\"product-price__wrapper css-9xqpgk\"><div class=\"product-price es__styling is--current-price css-11s12ax\" data-testid=\"product-price\" role=\"link\">159,99 €</div></div></div></div></div></div></figure></div></div><div class=\"product-card product-grid__card css-1t0asop\" data-product-position=\"19\" data-testid=\"product-card\"><div class=\"product-card__body\" data-el-type=\"Card\" data-testid=\"product-card__body\"><figure><a class=\"product-card__link-overlay\" data-testid=\"product-card__link-overlay\" href=\"https://www.nike.com/es/t/air-max-plus-zapatillas-nino-a-rPBz4L/CW7044-100\" tabindex=\"-1\">Nike Air Max Plus</a><a aria-label=\"Nike Air Max Plus\" class=\"product-card__img-link-overlay\" data-el-type=\"Hero\" data-testid=\"product-card__img-link-overlay\" href=\"https://www.nike.com/es/t/air-max-plus-zapatillas-nino-a-rPBz4L/CW7044-100\"><div class=\"wall-image-loader css-1la3v4n\" data-testid=\"wall-image-loader\"><img alt=\"Nike Air Max Plus Zapatillas - Niño/a\" class=\"product-card__hero-image css-1fxh5tw\" height=\"100%\" loading=\"lazy\" sizes=\"\" src=\"data:image/gif;base64,R0lGODlhAQABAIAAAAAAAP///yH5BAEAAAAALAAAAAABAAEAAAIBRAA7\" srcset=\"\" width=\"100%\"/><noscript><img alt=\"Nike Air Max Plus Zapatillas - Niño/a\" class=\"product-card__hero-image css-1fxh5tw\" height=\"400\" loading=\"lazy\" width=\"400\"/></noscript></div></a><div class=\"product-card__info disable-animations for--product\"><div class=\"\"><div class=\"product-card__messaging accent--color\" data-testid=\"product-card__messaging\">Superventas</div><div class=\"product-card__titles\"><div class=\"product-card__title\" id=\"Nike Air Max Plus\" role=\"link\">Nike Air Max Plus</div><div class=\"product-card__subtitle\" role=\"link\">Zapatillas - Niño/a</div></div></div><div class=\"product-card__count-wrapper false false\" data-testid=\"product-card__count-wrapper \"><div class=\"product-card__count-item\"><button aria-expanded=\"false\" class=\"product-card__colorway-btn\" data-testid=\"product-card__colorway-btn\" type=\"button\"><div aria-label=\"Producto disponible en 1 color\" class=\"product-card__product-count\">1 color</div></button></div></div><div class=\"product-card__animation_wrapper\"><div class=\"product-card__price-wrapper\"><div class=\"product-card__price\" data-testid=\"product-card__price\" role=\"link\"><div class=\"product-price__wrapper css-9xqpgk\"><div class=\"product-price es__styling is--current-price css-11s12ax\" data-testid=\"product-price\" role=\"link\">144,99 €</div></div></div></div></div></div></figure></div></div><div class=\"product-card product-grid__card css-1t0asop\" data-product-position=\"20\" data-testid=\"product-card\"><div class=\"product-card__body\" data-el-type=\"Card\" data-testid=\"product-card__body\"><figure><a class=\"product-card__link-overlay\" data-testid=\"product-card__link-overlay\" href=\"https://www.nike.com/es/t/air-max-90-zapatillas-H6XRJb/DH8010-100\" tabindex=\"-1\">Nike Air Max 90</a><a aria-label=\"Nike Air Max 90\" class=\"product-card__img-link-overlay\" data-el-type=\"Hero\" data-testid=\"product-card__img-link-overlay\" href=\"https://www.nike.com/es/t/air-max-90-zapatillas-H6XRJb/DH8010-100\"><div class=\"wall-image-loader css-1la3v4n\" data-testid=\"wall-image-loader\"><img alt=\"Nike Air Max 90 Zapatillas - Mujer\" class=\"product-card__hero-image css-1fxh5tw\" height=\"100%\" loading=\"lazy\" sizes=\"\" src=\"data:image/gif;base64,R0lGODlhAQABAIAAAAAAAP///yH5BAEAAAAALAAAAAABAAEAAAIBRAA7\" srcset=\"\" width=\"100%\"/><noscript><img alt=\"Nike Air Max 90 Zapatillas - Mujer\" class=\"product-card__hero-image css-1fxh5tw\" height=\"400\" loading=\"lazy\" width=\"400\"/></noscript></div></a><div class=\"product-card__info disable-animations for--product\"><div class=\"\"><div class=\"product-card__messaging accent--color\" data-testid=\"product-card__messaging\">Materiales sostenibles</div><div class=\"product-card__titles\"><div class=\"product-card__title\" id=\"Nike Air Max 90\" role=\"link\">Nike Air Max 90</div><div class=\"product-card__subtitle\" role=\"link\">Zapatillas - Mujer</div></div></div><div class=\"product-card__count-wrapper false false\" data-testid=\"product-card__count-wrapper \"><div class=\"product-card__count-item\"><button aria-expanded=\"false\" class=\"product-card__colorway-btn\" data-testid=\"product-card__colorway-btn\" type=\"button\"><div aria-label=\"Producto disponible en 3 colores\" class=\"product-card__product-count\">3 colores</div></button></div></div><div class=\"product-card__animation_wrapper\"><div class=\"product-card__price-wrapper\"><div class=\"product-card__price\" data-testid=\"product-card__price\" role=\"link\"><div class=\"product-price__wrapper css-9xqpgk\"><div class=\"product-price es__styling is--current-price css-11s12ax\" data-testid=\"product-price\" role=\"link\">159,99 €</div></div></div></div></div></div></figure></div></div><div class=\"product-card product-grid__card css-1t0asop\" data-product-position=\"21\" data-testid=\"product-card\"><div class=\"product-card__body\" data-el-type=\"Card\" data-testid=\"product-card__body\"><figure><a class=\"product-card__link-overlay\" data-testid=\"product-card__link-overlay\" href=\"https://www.nike.com/es/t/air-max-plus-iii-zapatillas-trH9dX/CJ9684-002\" tabindex=\"-1\">Nike Air Max Plus III</a><a aria-label=\"Nike Air Max Plus III\" class=\"product-card__img-link-overlay\" data-el-type=\"Hero\" data-testid=\"product-card__img-link-overlay\" href=\"https://www.nike.com/es/t/air-max-plus-iii-zapatillas-trH9dX/CJ9684-002\"><div class=\"wall-image-loader css-1la3v4n\" data-testid=\"wall-image-loader\"><img alt=\"Nike Air Max Plus III Zapatillas - Hombre\" class=\"product-card__hero-image css-1fxh5tw\" height=\"100%\" loading=\"lazy\" sizes=\"\" src=\"data:image/gif;base64,R0lGODlhAQABAIAAAAAAAP///yH5BAEAAAAALAAAAAABAAEAAAIBRAA7\" srcset=\"\" width=\"100%\"/><noscript><img alt=\"Nike Air Max Plus III Zapatillas - Hombre\" class=\"product-card__hero-image css-1fxh5tw\" height=\"400\" loading=\"lazy\" width=\"400\"/></noscript></div></a><div class=\"product-card__info disable-animations for--product\"><div class=\"\"><div class=\"product-card__messaging accent--color\" data-testid=\"product-card__messaging\">Superventas</div><div class=\"product-card__titles\"><div class=\"product-card__title\" id=\"Nike Air Max Plus III\" role=\"link\">Nike Air Max Plus III</div><div class=\"product-card__subtitle\" role=\"link\">Zapatillas - Hombre</div></div></div><div class=\"product-card__count-wrapper false false\" data-testid=\"product-card__count-wrapper \"><div class=\"product-card__count-item\"><button aria-expanded=\"false\" class=\"product-card__colorway-btn\" data-testid=\"product-card__colorway-btn\" type=\"button\"><div aria-label=\"Producto disponible en 1 color\" class=\"product-card__product-count\">1 color</div></button></div></div><div class=\"product-card__animation_wrapper\"><div class=\"product-card__price-wrapper\"><div class=\"product-card__price\" data-testid=\"product-card__price\" role=\"link\"><div class=\"product-price__wrapper css-9xqpgk\"><div class=\"product-price es__styling is--current-price css-11s12ax\" data-testid=\"product-price\" role=\"link\">189,99 €</div></div></div></div></div></div></figure></div></div><div class=\"product-card product-grid__card css-1t0asop\" data-product-position=\"22\" data-testid=\"product-card\"><div class=\"product-card__body\" data-el-type=\"Card\" data-testid=\"product-card__body\"><figure><a class=\"product-card__link-overlay\" data-testid=\"product-card__link-overlay\" href=\"https://www.nike.com/es/t/air-max-90-zapatillas-QBB9hs/FN8005-100\" tabindex=\"-1\">Nike Air Max 90</a><a aria-label=\"Nike Air Max 90\" class=\"product-card__img-link-overlay\" data-el-type=\"Hero\" data-testid=\"product-card__img-link-overlay\" href=\"https://www.nike.com/es/t/air-max-90-zapatillas-QBB9hs/FN8005-100\"><div class=\"wall-image-loader css-1la3v4n\" data-testid=\"wall-image-loader\"><img alt=\"Nike Air Max 90 Zapatillas - Hombre\" class=\"product-card__hero-image css-1fxh5tw\" height=\"100%\" loading=\"lazy\" sizes=\"\" src=\"data:image/gif;base64,R0lGODlhAQABAIAAAAAAAP///yH5BAEAAAAALAAAAAABAAEAAAIBRAA7\" srcset=\"\" width=\"100%\"/><noscript><img alt=\"Nike Air Max 90 Zapatillas - Hombre\" class=\"product-card__hero-image css-1fxh5tw\" height=\"400\" loading=\"lazy\" width=\"400\"/></noscript></div></a><div class=\"product-card__info disable-animations\"><div class=\"\"><div class=\"product-card__titles\"><div class=\"product-card__title\" id=\"Nike Air Max 90\" role=\"link\">Nike Air Max 90</div><div class=\"product-card__subtitle\" role=\"link\">Zapatillas - Hombre</div></div></div><div class=\"product-card__count-wrapper false false\" data-testid=\"product-card__count-wrapper \"><div class=\"product-card__count-item\"><button aria-expanded=\"false\" class=\"product-card__colorway-btn\" data-testid=\"product-card__colorway-btn\" type=\"button\"><div aria-label=\"Producto disponible en 3 colores\" class=\"product-card__product-count\">3 colores</div></button></div></div><div class=\"product-card__animation_wrapper\"><div class=\"product-card__price-wrapper\"><div class=\"product-card__price\" data-testid=\"product-card__price\" role=\"link\"><div class=\"product-price__wrapper css-9xqpgk\"><div class=\"product-price es__styling is--current-price css-11s12ax\" data-testid=\"product-price\" role=\"link\">159,99 €</div></div></div></div></div></div></figure></div></div><div class=\"product-card product-grid__card css-1t0asop\" data-product-position=\"23\" data-testid=\"product-card\"><div class=\"product-card__body\" data-el-type=\"Card\" data-testid=\"product-card__body\"><figure><a class=\"product-card__link-overlay\" data-testid=\"product-card__link-overlay\" href=\"https://www.nike.com/es/t/air-max-97-zapatillas-zmKjB9/DZ2629-001\" tabindex=\"-1\">Nike Air Max 97</a><a aria-label=\"Nike Air Max 97\" class=\"product-card__img-link-overlay\" data-el-type=\"Hero\" data-testid=\"product-card__img-link-overlay\" href=\"https://www.nike.com/es/t/air-max-97-zapatillas-zmKjB9/DZ2629-001\"><div class=\"wall-image-loader css-1la3v4n\" data-testid=\"wall-image-loader\"><img alt=\"Nike Air Max 97 Zapatillas - Hombre\" class=\"product-card__hero-image css-1fxh5tw\" height=\"100%\" loading=\"lazy\" sizes=\"\" src=\"data:image/gif;base64,R0lGODlhAQABAIAAAAAAAP///yH5BAEAAAAALAAAAAABAAEAAAIBRAA7\" srcset=\"\" width=\"100%\"/><noscript><img alt=\"Nike Air Max 97 Zapatillas - Hombre\" class=\"product-card__hero-image css-1fxh5tw\" height=\"400\" loading=\"lazy\" width=\"400\"/></noscript></div></a><div class=\"product-card__info disable-animations\"><div class=\"\"><div class=\"product-card__titles\"><div class=\"product-card__title\" id=\"Nike Air Max 97\" role=\"link\">Nike Air Max 97</div><div class=\"product-card__subtitle\" role=\"link\">Zapatillas - Hombre</div></div></div><div class=\"product-card__count-wrapper false false\" data-testid=\"product-card__count-wrapper \"><div class=\"product-card__count-item\"><button aria-expanded=\"false\" class=\"product-card__colorway-btn\" data-testid=\"product-card__colorway-btn\" type=\"button\"><div aria-label=\"Producto disponible en 1 color\" class=\"product-card__product-count\">1 color</div></button></div></div><div class=\"product-card__animation_wrapper\"><div class=\"product-card__price-wrapper\"><div class=\"product-card__price\" data-testid=\"product-card__price\" role=\"link\"><div class=\"product-price__wrapper css-9xqpgk\"><div class=\"product-price es__styling is--current-price css-11s12ax\" data-testid=\"product-price\" role=\"link\">189,99 €</div></div></div></div></div></div></figure></div></div><div class=\"product-card product-grid__card css-1t0asop\" data-product-position=\"24\" data-testid=\"product-card\"><div class=\"product-card__body\" data-el-type=\"Card\" data-testid=\"product-card__body\"><figure><a class=\"product-card__link-overlay\" data-testid=\"product-card__link-overlay\" href=\"https://www.nike.com/es/t/air-max-1-zapatillas-Kd8dSr/FN7487-133\" tabindex=\"-1\">Nike Air Max 1</a><a aria-label=\"Nike Air Max 1\" class=\"product-card__img-link-overlay\" data-el-type=\"Hero\" data-testid=\"product-card__img-link-overlay\" href=\"https://www.nike.com/es/t/air-max-1-zapatillas-Kd8dSr/FN7487-133\"><div class=\"wall-image-loader css-1la3v4n\" data-testid=\"wall-image-loader\"><img alt=\"Nike Air Max 1 Zapatillas\" class=\"product-card__hero-image css-1fxh5tw\" height=\"100%\" loading=\"lazy\" sizes=\"\" src=\"data:image/gif;base64,R0lGODlhAQABAIAAAAAAAP///yH5BAEAAAAALAAAAAABAAEAAAIBRAA7\" srcset=\"\" width=\"100%\"/><noscript><img alt=\"Nike Air Max 1 Zapatillas\" class=\"product-card__hero-image css-1fxh5tw\" height=\"400\" loading=\"lazy\" width=\"400\"/></noscript></div></a><div class=\"product-card__info disable-animations for--product\"><div class=\"\"><div class=\"product-card__messaging accent--color\" data-testid=\"product-card__messaging\">Producto para Members</div><div class=\"product-card__titles\"><div class=\"product-card__title\" id=\"Nike Air Max 1\" role=\"link\">Nike Air Max 1</div><div class=\"product-card__subtitle\" role=\"link\">Zapatillas</div></div></div><div class=\"product-card__count-wrapper false false\" data-testid=\"product-card__count-wrapper \"><div class=\"product-card__count-item\"><button aria-expanded=\"false\" class=\"product-card__colorway-btn\" data-testid=\"product-card__colorway-btn\" type=\"button\"><div aria-label=\"Producto disponible en 1 color\" class=\"product-card__product-count\">1 color</div></button></div></div><div class=\"product-card__animation_wrapper\"><div class=\"product-card__price-wrapper\"><div class=\"product-card__price\" data-testid=\"product-card__price\" role=\"link\"><div class=\"product-price__wrapper css-9xqpgk\"><div class=\"product-price es__styling is--current-price css-11s12ax\" data-testid=\"product-price\" role=\"link\">169,99 €</div></div></div></div></div></div></figure></div></div><span style=\"font-size:0\"></span><div class=\"loader-bar css-19k7nfv\"><div class=\"loader-overlay is--visible css-1s2k3od\"><div class=\"css-wtrpap\"></div></div></div></div>]"
      ]
     },
     "execution_count": 146,
     "metadata": {},
     "output_type": "execute_result"
    }
   ],
   "source": [
    "url = \"https://www.nike.com/es/w/air-max-lifestyle-zapatillas-13jrmza6d8hzy7ok\"\n",
    "res = requests.get(url)                                       \n",
    "soup = BeautifulSoup(res.content, 'html.parser')\n",
    "nikew = soup.find_all(\"div\", {\"class\": \"product-grid__items css-hvew4t\"})\n",
    "nikew"
   ]
  },
  {
   "cell_type": "code",
   "execution_count": 148,
   "metadata": {},
   "outputs": [],
   "source": [
    "def get_name(url):\n",
    "    res = requests.get(url)\n",
    "    res.raise_for_status() \n",
    "    soup = BeautifulSoup(res.content, 'html.parser')\n",
    "    nikew = soup.find_all(\"div\", {\"class\": \"product-card__title\"})\n",
    "    name = [name.get(\"id\").replace(\" \\xa0 \", \"\") for name in nikew]\n",
    "    return name"
   ]
  },
  {
   "cell_type": "code",
   "execution_count": 149,
   "metadata": {},
   "outputs": [
    {
     "name": "stdout",
     "output_type": "stream",
     "text": [
      "Lifestyle\n"
     ]
    }
   ],
   "source": [
    "url = \"https://www.nike.com/es/w/hombre-air-force-1-lifestyle-zapatillas-13jrmz5sj3yznik1zy7ok\"\n",
    "if \"lifestyle\" in url:\n",
    "    print(\"Lifestyle\")\n",
    "if \"baloncesto\" in url:\n",
    "    print(\"Sports\")"
   ]
  },
  {
   "cell_type": "code",
   "execution_count": 150,
   "metadata": {},
   "outputs": [],
   "source": [
    "def get_nike_ids(url):\n",
    "    try:\n",
    "        res = requests.get(url)\n",
    "        res.raise_for_status() \n",
    "        soup = BeautifulSoup(res.content, 'html.parser')\n",
    "        nikew = soup.find_all(\"div\", {\"class\": \"product-grid__items css-hvew4t\"})\n",
    "        ids = [id.get('href') for i in nikew for id in i.select('.product-card__link-overlay')]\n",
    "        ids = [url.split(\"/\")[-1] for url in ids]\n",
    "        return ids\n",
    "    except requests.exceptions.RequestException as e:\n",
    "        print(f\"Error: {e}\")\n",
    "        return None"
   ]
  },
  {
   "cell_type": "code",
   "execution_count": 151,
   "metadata": {},
   "outputs": [],
   "source": [
    "def get_prices(soup):\n",
    "    res = requests.get(url)\n",
    "    res.raise_for_status() \n",
    "    soup = BeautifulSoup(res.content, 'html.parser')\n",
    "    prices = soup.find_all(\"div\", {\"role\":\"link\",\"class\":\"product-price es__styling is--current-price css-11s12ax\"})\n",
    "    return [i.text.strip().replace(\"\\xa0\", \"\").replace(\"€\",\"\") for i in prices]"
   ]
  },
  {
   "cell_type": "code",
   "execution_count": 152,
   "metadata": {},
   "outputs": [],
   "source": [
    "def get_gender(soup):\n",
    "    res = requests.get(url)\n",
    "    res.raise_for_status() \n",
    "    soup = BeautifulSoup(res.content, 'html.parser')\n",
    "    gender = soup.find_all(\"div\", {\"class\": \"product-card__titles\"})\n",
    "    return [i.text.strip().split()[-1].replace(\"1Zapatillas\", \"Unisex\").replace(\"infantil\", \"Unisex\").replace(\"pequeño/a\",\"Unisex\").replace(\"EasyOnZapatillas\", \"Mujeres\") for i in gender]"
   ]
  },
  {
   "cell_type": "code",
   "execution_count": 153,
   "metadata": {},
   "outputs": [],
   "source": [
    "def available_count_colors(soup):\n",
    "    res = requests.get(url)\n",
    "    res.raise_for_status() \n",
    "    soup = BeautifulSoup(res.content, 'html.parser')\n",
    "    available_colors = soup.find_all(\"div\", {\"class\": \"product-card__count-item\"})\n",
    "    available_colors = [i.text.strip().replace(\" colores\", \"\").replace(\" color\", \"\") for i in available_colors]\n",
    "    return available_colors"
   ]
  },
  {
   "cell_type": "markdown",
   "metadata": {},
   "source": [
    "Air Force 1"
   ]
  },
  {
   "cell_type": "code",
   "execution_count": 156,
   "metadata": {},
   "outputs": [],
   "source": [
    "AirForce1m = \"https://www.nike.com/es/w/hombre-air-force-1-lifestyle-zapatillas-13jrmz5sj3yznik1zy7ok\"\n",
    "name_airforcem = get_name(AirForce1m)\n",
    "id_airforcem = get_nike_ids(AirForce1m)\n",
    "price_airforcem = get_prices(AirForce1m)\n",
    "gender_airforcem = get_gender(AirForce1m)\n",
    "colors_airforcem = available_count_colors(AirForce1m)"
   ]
  },
  {
   "cell_type": "code",
   "execution_count": 157,
   "metadata": {},
   "outputs": [],
   "source": [
    "AirForce1w = \"https://www.nike.com/es/w/mujer-air-force-1-lifestyle-zapatillas-13jrmz5e1x6z5sj3yzy7ok\"\n",
    "name_airforcew = get_name(AirForce1w)\n",
    "id_airforcew = get_nike_ids(AirForce1w)\n",
    "price_airforcew = get_prices(AirForce1w)\n",
    "gender_airforcew = get_gender(AirForce1w)\n",
    "colors_airforcew = available_count_colors(AirForce1w)"
   ]
  },
  {
   "cell_type": "code",
   "execution_count": 158,
   "metadata": {},
   "outputs": [],
   "source": [
    "AirForce1u = \"https://www.nike.com/es/w/unisex-air-force-1-lifestyle-zapatillas-13jrmz3rauvz5sj3yzy7ok\"\n",
    "name_airforceu = get_name(AirForce1u)\n",
    "id_airforceu = get_nike_ids(AirForce1u)\n",
    "price_airforceu= get_prices(AirForce1u)\n",
    "gender_airforceu = get_gender(AirForce1u)\n",
    "colors_airforceu = available_count_colors(AirForce1u)"
   ]
  },
  {
   "cell_type": "code",
   "execution_count": 159,
   "metadata": {},
   "outputs": [
    {
     "name": "stdout",
     "output_type": "stream",
     "text": [
      "52\n"
     ]
    }
   ],
   "source": [
    "dict_AirForce1 = {\n",
    "    \"name\":name_airforcem + name_airforcew + name_airforceu,\n",
    "    \"id\": id_airforcew + id_airforcem + id_airforceu,\n",
    "    \"price\": price_airforcew + price_airforcem + price_airforceu,\n",
    "    \"gender\": gender_airforcew  + gender_airforcem + gender_airforceu,\n",
    "    \"colors\": colors_airforcew + colors_airforcem + colors_airforceu\n",
    "}\n",
    "\n",
    "max_length = max(len(value) for value in dict_AirForce1.values())\n",
    "for key, value in dict_AirForce1.items():\n",
    "    dict_AirForce1[key] = value + [0] * (max_length - len(value))\n",
    "AirForce1 = pd.DataFrame(dict_AirForce1) \n",
    "\n",
    "pd.set_option('display.max_rows', None)\n",
    "d = id_airforcew + id_airforcem + id_airforceu\n",
    "print(len(d))\n",
    "\n",
    "AirForce1 = AirForce1.head(52)\n"
   ]
  },
  {
   "cell_type": "markdown",
   "metadata": {},
   "source": [
    "Air Max 1"
   ]
  },
  {
   "cell_type": "code",
   "execution_count": 160,
   "metadata": {},
   "outputs": [],
   "source": [
    "AirMax1m = \"https://www.nike.com/es/w/hombre-air-max-1-lifestyle-zapatillas-13jrmz8p4egznik1zy7ok\"\n",
    "name_airmax1m = get_name(AirMax1m)\n",
    "id_airmax1m = get_nike_ids(AirMax1m)\n",
    "price_airmax1m = get_prices(AirMax1m)\n",
    "gender_airmax1m = get_gender(AirMax1m)\n",
    "colors_airmax1m = available_count_colors(AirMax1m)"
   ]
  },
  {
   "cell_type": "code",
   "execution_count": 161,
   "metadata": {},
   "outputs": [],
   "source": [
    "AirMax1w = \"https://www.nike.com/es/w/mujer-air-max-1-lifestyle-zapatillas-13jrmz5e1x6z8p4egzy7ok\"\n",
    "name_airmax1w = get_name(AirMax1w)\n",
    "id_airmax1w = get_nike_ids(AirMax1w)\n",
    "price_airmax1w = get_prices(AirMax1w)\n",
    "gender_airmax1w = get_gender(AirMax1w)\n",
    "colors_airmax1w = available_count_colors(AirMax1w)"
   ]
  },
  {
   "cell_type": "code",
   "execution_count": 162,
   "metadata": {},
   "outputs": [],
   "source": [
    "AirMax1u = \"https://www.nike.com/es/w/unisex-air-max-1-lifestyle-zapatillas-13jrmz3rauvz8p4egzy7ok\"\n",
    "name_airmax1u = get_name(AirMax1u)\n",
    "id_airmax1u = get_nike_ids(AirMax1u)\n",
    "price_airmax1u = get_prices(AirMax1u)\n",
    "gender_airmax1u = get_gender(AirMax1u)\n",
    "colors_airmax1u = available_count_colors(AirMax1u)"
   ]
  },
  {
   "cell_type": "code",
   "execution_count": 163,
   "metadata": {},
   "outputs": [
    {
     "name": "stdout",
     "output_type": "stream",
     "text": [
      "29\n"
     ]
    }
   ],
   "source": [
    "dict_Airmax1 = {\n",
    "    \"name\": name_airmax1m + name_airmax1w + name_airmax1u,\n",
    "    \"id\": id_airmax1m + id_airmax1w + id_airmax1u,\n",
    "    \"price\": price_airmax1m + price_airmax1w + price_airmax1u,\n",
    "    \"gender\": gender_airmax1m  + gender_airmax1w + gender_airmax1u,\n",
    "    \"colors\": colors_airmax1m + colors_airmax1w + colors_airmax1u\n",
    "}\n",
    "\n",
    "max_length = max(len(value) for value in dict_Airmax1.values())\n",
    "for key, value in dict_Airmax1.items():\n",
    "    dict_Airmax1[key] = value + [0] * (max_length - len(value))\n",
    "Airmax1 = pd.DataFrame(dict_Airmax1) \n",
    "\n",
    "d = id_airmax1m + id_airmax1w + id_airmax1u\n",
    "print(len(d))\n",
    "\n",
    "Airmax1 = Airmax1.head(29)"
   ]
  },
  {
   "cell_type": "markdown",
   "metadata": {},
   "source": [
    "Air Max 90"
   ]
  },
  {
   "cell_type": "code",
   "execution_count": 164,
   "metadata": {},
   "outputs": [],
   "source": [
    "AirMax90m = \"https://www.nike.com/es/w/hombre-air-max-90-lifestyle-zapatillas-13jrmzauqmoznik1zy7ok\"\n",
    "name_airmax90m = get_name(AirMax90m)\n",
    "id_airmax90m = get_nike_ids(AirMax90m)\n",
    "price_airmax90m = get_prices(AirMax90m)\n",
    "gender_airmax90m = get_gender(AirMax90m)\n",
    "colors_airmax90m = available_count_colors(AirMax90m)"
   ]
  },
  {
   "cell_type": "code",
   "execution_count": 165,
   "metadata": {},
   "outputs": [],
   "source": [
    "AirMax90w = \"https://www.nike.com/es/w/mujer-air-max-90-lifestyle-zapatillas-13jrmz5e1x6zauqmozy7ok\"\n",
    "name_airmax90w = get_name(AirMax90w)\n",
    "id_airmax90w = get_nike_ids(AirMax90w)\n",
    "price_airmax90w = get_prices(AirMax90w)\n",
    "gender_airmax90w = get_gender(AirMax90w)\n",
    "colors_airmax90w = available_count_colors(AirMax90w)"
   ]
  },
  {
   "cell_type": "code",
   "execution_count": 166,
   "metadata": {},
   "outputs": [],
   "source": [
    "AirMax90u = \"https://www.nike.com/es/w/unisex-air-max-90-lifestyle-zapatillas-13jrmz3rauvzauqmozy7ok\"\n",
    "name_airmax90u = get_name(AirMax90u)\n",
    "id_airmax90u = get_nike_ids(AirMax90u)\n",
    "price_airmax90u = get_prices(AirMax90u)\n",
    "gender_airmax90u = get_gender(AirMax90u)\n",
    "colors_airmax90u = available_count_colors(AirMax90u)"
   ]
  },
  {
   "cell_type": "code",
   "execution_count": 167,
   "metadata": {},
   "outputs": [
    {
     "name": "stdout",
     "output_type": "stream",
     "text": [
      "41\n"
     ]
    }
   ],
   "source": [
    "dict_Airmax90 = {\n",
    "    \"name\": name_airmax90m + name_airmax90w + name_airmax90u,\n",
    "    \"id\": id_airmax90m + id_airmax90w + id_airmax90u,\n",
    "    \"price\": price_airmax90m + price_airmax90w + price_airmax90u,\n",
    "    \"gender\": gender_airmax90m  + gender_airmax90w + gender_airmax90u,\n",
    "    \"colors\": colors_airmax90m + colors_airmax90w + colors_airmax90u\n",
    "}\n",
    "\n",
    "max_length = max(len(value) for value in dict_Airmax90.values())\n",
    "for key, value in dict_Airmax90.items():\n",
    "    dict_Airmax90[key] = value + [0] * (max_length - len(value))\n",
    "Airmax90 = pd.DataFrame(dict_Airmax90) \n",
    "\n",
    "d = id_airmax90m + id_airmax90w + id_airmax90u\n",
    "print(len(d))\n",
    "\n",
    "Airmax90 = Airmax90.head(41)\n"
   ]
  },
  {
   "cell_type": "markdown",
   "metadata": {},
   "source": [
    "Air Max 95"
   ]
  },
  {
   "cell_type": "code",
   "execution_count": 168,
   "metadata": {},
   "outputs": [],
   "source": [
    "AirMax95m = \"https://www.nike.com/es/w/hombre-air-max-95-lifestyle-zapatillas-13jrmzb0mibznik1zy7ok\"\n",
    "name_airmax95m = get_name(AirMax95m)\n",
    "id_airmax95m = get_nike_ids(AirMax95m)\n",
    "price_airmax95m = get_prices(AirMax95m)\n",
    "gender_airmax95m = get_gender(AirMax95m)\n",
    "colors_airmax95m = available_count_colors(AirMax95m)"
   ]
  },
  {
   "cell_type": "code",
   "execution_count": 169,
   "metadata": {},
   "outputs": [],
   "source": [
    "AirMax95w = \"https://www.nike.com/es/w/mujer-air-max-95-lifestyle-zapatillas-13jrmz5e1x6zb0mibzy7ok\"\n",
    "name_airmax95w = get_name(AirMax95w)\n",
    "id_airmax95w = get_nike_ids(AirMax95w)\n",
    "price_airmax95w = get_prices(AirMax95w)\n",
    "gender_airmax95w = get_gender(AirMax95w)\n",
    "colors_airmax95w = available_count_colors(AirMax95w)"
   ]
  },
  {
   "cell_type": "code",
   "execution_count": 170,
   "metadata": {},
   "outputs": [
    {
     "name": "stdout",
     "output_type": "stream",
     "text": [
      "23\n"
     ]
    }
   ],
   "source": [
    "dict_Airmax95 = {\n",
    "    \"name\": name_airmax95m + name_airmax95w,\n",
    "    \"id\": id_airmax95m + id_airmax95w,\n",
    "    \"price\": price_airmax95m + price_airmax95w,\n",
    "    \"gender\": gender_airmax95m  + gender_airmax95w ,\n",
    "    \"colors\": colors_airmax95m + colors_airmax95w\n",
    "}\n",
    "\n",
    "max_length = max(len(value) for value in dict_Airmax95.values())\n",
    "for key, value in dict_Airmax95.items():\n",
    "    dict_Airmax95[key] = value + [0] * (max_length - len(value))\n",
    "Airmax95 = pd.DataFrame(dict_Airmax95) \n",
    "\n",
    "\n",
    "d =  id_airmax95m + id_airmax95w\n",
    "print(len(d))\n",
    "\n",
    "Airmax95 = Airmax95.head(23)"
   ]
  },
  {
   "cell_type": "markdown",
   "metadata": {},
   "source": [
    "Air Max 97"
   ]
  },
  {
   "cell_type": "code",
   "execution_count": 171,
   "metadata": {},
   "outputs": [],
   "source": [
    "AirMax97m = \"https://www.nike.com/es/w/hombre-air-max-97-lifestyle-zapatillas-13jrmz77f38znik1zy7ok\"\n",
    "name_airmax97m = get_name(AirMax97m)\n",
    "id_airmax97m = get_nike_ids(AirMax97m)\n",
    "price_airmax97m = get_prices(AirMax97m)\n",
    "gender_airmax97m = get_gender(AirMax97m)\n",
    "colors_airmax97m = available_count_colors(AirMax97m)"
   ]
  },
  {
   "cell_type": "code",
   "execution_count": 172,
   "metadata": {},
   "outputs": [],
   "source": [
    "AirMax97w = \"https://www.nike.com/es/w/mujer-air-max-97-lifestyle-zapatillas-13jrmz5e1x6z77f38zy7ok\"\n",
    "name_airmax97w = get_name(AirMax97w)\n",
    "id_airmax97w = get_nike_ids(AirMax97w)\n",
    "price_airmax97w = get_prices(AirMax97w)\n",
    "gender_airmax97w = get_gender(AirMax97w)\n",
    "colors_airmax97w = available_count_colors(AirMax97w)"
   ]
  },
  {
   "cell_type": "code",
   "execution_count": 173,
   "metadata": {},
   "outputs": [
    {
     "name": "stdout",
     "output_type": "stream",
     "text": [
      "24\n"
     ]
    }
   ],
   "source": [
    "dict_Airmax97 = {\n",
    "    \"name\": name_airmax97m + name_airmax97w,\n",
    "    \"id\": id_airmax97m + id_airmax97w,\n",
    "    \"price\": price_airmax97m + price_airmax97w,\n",
    "    \"gender\": gender_airmax97m  + gender_airmax97w ,\n",
    "    \"colors\": colors_airmax97m + colors_airmax97w\n",
    "}\n",
    "\n",
    "max_length = max(len(value) for value in dict_Airmax97.values())\n",
    "for key, value in dict_Airmax97.items():\n",
    "    dict_Airmax97[key] = value + [0] * (max_length - len(value))\n",
    "Airmax97 = pd.DataFrame(dict_Airmax97) \n",
    "\n",
    "\n",
    "d =  id_airmax97m + id_airmax97w\n",
    "print(len(d))\n",
    "\n",
    "Airmax97 = Airmax97.head(24)"
   ]
  },
  {
   "cell_type": "markdown",
   "metadata": {},
   "source": [
    "Air Max 270"
   ]
  },
  {
   "cell_type": "code",
   "execution_count": 174,
   "metadata": {},
   "outputs": [],
   "source": [
    "AirMax270m = \"https://www.nike.com/es/w/hombre-air-max-270-lifestyle-zapatillas-13jrmz5ix6dznik1zy7ok\"  \n",
    "name_airmax270m = get_name(AirMax270m)\n",
    "id_airmax270m = get_nike_ids(AirMax270m)\n",
    "price_airmax270m = get_prices(AirMax270m)\n",
    "gender_airmax270m = get_gender(AirMax270m)\n",
    "colors_airmax270m = available_count_colors(AirMax270m)"
   ]
  },
  {
   "cell_type": "code",
   "execution_count": 175,
   "metadata": {},
   "outputs": [],
   "source": [
    "AirMax270w = \"https://www.nike.com/es/w/mujer-air-max-270-lifestyle-zapatillas-13jrmz5e1x6z5ix6dzy7ok\"  \n",
    "name_airmax270w = get_name(AirMax270w)\n",
    "id_airmax270w = get_nike_ids(AirMax270w)\n",
    "price_airmax270w = get_prices(AirMax270w)\n",
    "gender_airmax270w = get_gender(AirMax270w)\n",
    "colors_airmax270w = available_count_colors(AirMax270w)"
   ]
  },
  {
   "cell_type": "code",
   "execution_count": 176,
   "metadata": {},
   "outputs": [
    {
     "name": "stdout",
     "output_type": "stream",
     "text": [
      "11\n"
     ]
    }
   ],
   "source": [
    "dict_Airmax270 = {\n",
    "    \"name\": name_airmax270m + name_airmax270w,\n",
    "    \"id\": id_airmax270m + id_airmax270w,\n",
    "    \"price\": price_airmax270m + price_airmax270w,\n",
    "    \"gender\": gender_airmax270m  + gender_airmax270w ,\n",
    "    \"colors\": colors_airmax270m + colors_airmax270w\n",
    "}\n",
    "\n",
    "max_length = max(len(value) for value in dict_Airmax270.values())\n",
    "for key, value in dict_Airmax270.items():\n",
    "    dict_Airmax270[key] = value + [0] * (max_length - len(value))\n",
    "Airmax270 = pd.DataFrame(dict_Airmax270) \n",
    "\n",
    "d = id_airmax270m + id_airmax270w\n",
    "print(len(d))\n",
    "\n",
    "Airmax270 = Airmax270.head(11)\n"
   ]
  },
  {
   "cell_type": "markdown",
   "metadata": {},
   "source": [
    "Air Max Furyosa"
   ]
  },
  {
   "cell_type": "code",
   "execution_count": 177,
   "metadata": {},
   "outputs": [],
   "source": [
    "AirMaxFw = \"https://www.nike.com/es/w/mujer-air-max-furyosa-lifestyle-zapatillas-13jrmz5e1x6z5lnxgzy7ok\"\n",
    "name_airmaxFw = get_name(AirMaxFw)\n",
    "id_airmaxFw = get_nike_ids(AirMaxFw)\n",
    "price_airmaxFw = get_prices(AirMaxFw)\n",
    "gender_airmaxFw = get_gender(AirMaxFw)\n",
    "colors_airmaxFw = available_count_colors(AirMaxFw)"
   ]
  },
  {
   "cell_type": "code",
   "execution_count": 178,
   "metadata": {},
   "outputs": [
    {
     "name": "stdout",
     "output_type": "stream",
     "text": [
      "3\n"
     ]
    }
   ],
   "source": [
    "dict_AirmaxF = {\n",
    "    \"name\": name_airmaxFw,\n",
    "    \"id\": id_airmaxFw,\n",
    "    \"price\":  price_airmaxFw,\n",
    "    \"gender\": gender_airmaxFw,\n",
    "    \"colors\": colors_airmaxFw\n",
    "}\n",
    "\n",
    "max_length = max(len(value) for value in dict_AirmaxF.values())\n",
    "for key, value in dict_AirmaxF.items():\n",
    "    dict_AirmaxF[key] = value + [0] * (max_length - len(value))\n",
    "AirmaxF = pd.DataFrame(dict_AirmaxF) \n",
    "\n",
    "\n",
    "d = id_airmaxFw\n",
    "print(len(d))\n",
    "\n",
    "AirmaxF = AirmaxF.head(3)"
   ]
  },
  {
   "cell_type": "markdown",
   "metadata": {},
   "source": [
    "Air Max Pulse"
   ]
  },
  {
   "cell_type": "code",
   "execution_count": 179,
   "metadata": {},
   "outputs": [],
   "source": [
    "AirMaxPm = \"https://www.nike.com/es/w/hombre-air-max-pulse-lifestyle-zapatillas-13jrmz1lkruznik1zy7ok\"\n",
    "name_airmaxPm= get_name(AirMaxPm)\n",
    "id_airmaxPm = get_nike_ids(AirMaxPm)\n",
    "price_airmaxPm = get_prices(AirMaxPm)\n",
    "gender_airmaxPm = get_gender(AirMaxPm)\n",
    "colors_airmaxPm = available_count_colors(AirMaxPm)"
   ]
  },
  {
   "cell_type": "code",
   "execution_count": 180,
   "metadata": {},
   "outputs": [],
   "source": [
    "AirMaxPw = \"https://www.nike.com/es/w/mujer-air-max-pulse-lifestyle-zapatillas-13jrmz1lkruz5e1x6zy7ok\"\n",
    "name_airmaxPw= get_name(AirMaxPw)\n",
    "id_airmaxPw = get_nike_ids(AirMaxPw)\n",
    "price_airmaxPw = get_prices(AirMaxPw)\n",
    "gender_airmaxPw = get_gender(AirMaxPw)\n",
    "colors_airmaxPw = available_count_colors(AirMaxPw)"
   ]
  },
  {
   "cell_type": "code",
   "execution_count": 181,
   "metadata": {},
   "outputs": [
    {
     "name": "stdout",
     "output_type": "stream",
     "text": [
      "9\n"
     ]
    }
   ],
   "source": [
    "dict_AirmaxP = {\n",
    "    \"name\": name_airmaxPm + name_airmaxPw, \n",
    "    \"id\": id_airmaxPm + id_airmaxPw,\n",
    "    \"price\": price_airmaxPm + price_airmaxPw,\n",
    "    \"gender\": gender_airmaxPm  + gender_airmaxPw ,\n",
    "    \"colors\": colors_airmaxPm + colors_airmaxPw\n",
    "}\n",
    "\n",
    "max_length = max(len(value) for value in dict_AirmaxP.values())\n",
    "for key, value in dict_AirmaxP.items():\n",
    "    dict_AirmaxP[key] = value + [0] * (max_length - len(value))\n",
    "AirmaxP = pd.DataFrame(dict_AirmaxP) \n",
    "\n",
    "\n",
    "d = id_airmaxPm + id_airmaxPw\n",
    "print(len(d))\n",
    "\n",
    "AirmaxP = AirmaxP.head(9)"
   ]
  },
  {
   "cell_type": "markdown",
   "metadata": {},
   "source": [
    "Air Max 2021"
   ]
  },
  {
   "cell_type": "code",
   "execution_count": 182,
   "metadata": {},
   "outputs": [],
   "source": [
    "AirMax2021w = \"https://www.nike.com/es/w/mujer-air-max-pulse-lifestyle-zapatillas-13jrmz1lkruz5e1x6zy7ok\"\n",
    "name_airmax2021w= get_name(AirMax2021w)\n",
    "id_airmax2021w = get_nike_ids(AirMax2021w)\n",
    "price_airmax2021w = get_prices(AirMax2021w)\n",
    "gender_airmax2021w = get_gender(AirMax2021w)\n",
    "colors_airmax2021w = available_count_colors(AirMax2021w)"
   ]
  },
  {
   "cell_type": "code",
   "execution_count": 183,
   "metadata": {},
   "outputs": [
    {
     "name": "stdout",
     "output_type": "stream",
     "text": [
      "3\n"
     ]
    }
   ],
   "source": [
    "dict_Airmax2021 = {\n",
    "    \"name\": name_airmax2021w, \n",
    "    \"id\": id_airmax2021w,\n",
    "    \"price\":  price_airmax2021w,\n",
    "    \"gender\": gender_airmax2021w,\n",
    "    \"colors\": colors_airmax2021w\n",
    "}\n",
    "\n",
    "max_length = max(len(value) for value in dict_Airmax2021.values())\n",
    "for key, value in dict_Airmax2021.items():\n",
    "    dict_Airmax2021[key] = value + [0] * (max_length - len(value))\n",
    "Airmax2021 = pd.DataFrame(dict_Airmax2021) \n",
    "\n",
    "d = id_airmax2021w\n",
    "print(len(d))\n",
    "\n",
    "Airmax2021 = Airmax2021.head(3)"
   ]
  },
  {
   "cell_type": "markdown",
   "metadata": {},
   "source": [
    "Air Max Plus"
   ]
  },
  {
   "cell_type": "code",
   "execution_count": 184,
   "metadata": {},
   "outputs": [],
   "source": [
    "AirMaxPlusm = \"https://www.nike.com/es/w/hombre-air-max-plus-lifestyle-zapatillas-13jrmzahvdnznik1zy7ok\"\n",
    "name_airmaxplusm= get_name(AirMaxPlusm)\n",
    "id_airmaxplusm = get_nike_ids(AirMaxPlusm)\n",
    "price_airmaxplusm = get_prices(AirMaxPlusm)\n",
    "gender_airmaxplusm = get_gender(AirMaxPlusm)\n",
    "colors_airmaxplusm = available_count_colors(AirMaxPlusm)"
   ]
  },
  {
   "cell_type": "code",
   "execution_count": 185,
   "metadata": {},
   "outputs": [],
   "source": [
    "AirMaxPlusw = \"https://www.nike.com/es/w/mujer-air-max-plus-lifestyle-zapatillas-13jrmz5e1x6zahvdnzy7ok\"\n",
    "name_airmaxplusw= get_name(AirMaxPlusw)\n",
    "id_airmaxplusw = get_nike_ids(AirMaxPlusw)\n",
    "price_airmaxplusw = get_prices(AirMaxPlusw)\n",
    "gender_airmaxplusw = get_gender(AirMaxPlusw)\n",
    "colors_airmaxplusw = available_count_colors(AirMaxPlusw)"
   ]
  },
  {
   "cell_type": "code",
   "execution_count": 186,
   "metadata": {},
   "outputs": [
    {
     "name": "stdout",
     "output_type": "stream",
     "text": [
      "38\n"
     ]
    }
   ],
   "source": [
    "dict_AirmaxPlus = {\n",
    "    \"name\": name_airmaxplusm + name_airmaxplusw,\n",
    "    \"id\": id_airmaxplusm + id_airmaxplusw,\n",
    "    \"price\": price_airmaxplusm + price_airmaxplusw,\n",
    "    \"gender\": gender_airmaxplusm  + gender_airmaxplusw,\n",
    "    \"colors\": colors_airmaxplusm + colors_airmaxplusw\n",
    "}\n",
    "\n",
    "max_length = max(len(value) for value in dict_AirmaxPlus.values())\n",
    "for key, value in dict_AirmaxPlus.items():\n",
    "    dict_AirmaxPlus[key] = value + [0] * (max_length - len(value))\n",
    "AirmaxPlus = pd.DataFrame(dict_AirmaxPlus) \n",
    "\n",
    "d =  id_airmaxplusm + id_airmaxplusw\n",
    "print(len(d))\n",
    "\n",
    "AirmaxPlus = AirmaxPlus.head(38)"
   ]
  },
  {
   "cell_type": "markdown",
   "metadata": {},
   "source": [
    "Air Max TW"
   ]
  },
  {
   "cell_type": "code",
   "execution_count": 187,
   "metadata": {},
   "outputs": [],
   "source": [
    "AirMaxTWm = \"https://www.nike.com/es/w/hombre-air-max-tw-lifestyle-zapatillas-13jrmz9k3inznik1zy7ok\"\n",
    "name_airmaxTWm = get_name(AirMaxTWm)\n",
    "id_airmaxTWm = get_nike_ids(AirMaxTWm)\n",
    "price_airmaxTWm = get_prices(AirMaxTWm)\n",
    "gender_airmaxTWm = get_gender(AirMaxTWm)\n",
    "colors_airmaxTWm = available_count_colors(AirMaxTWm)"
   ]
  },
  {
   "cell_type": "code",
   "execution_count": 188,
   "metadata": {},
   "outputs": [
    {
     "name": "stdout",
     "output_type": "stream",
     "text": [
      "7\n"
     ]
    }
   ],
   "source": [
    "dict_AirmaxTW = {\n",
    "    \"name\": name_airmaxTWm, \n",
    "    \"id\": id_airmaxTWm,\n",
    "    \"price\":  price_airmaxTWm,\n",
    "    \"gender\": gender_airmaxTWm,\n",
    "    \"colors\": colors_airmaxTWm\n",
    "}\n",
    "\n",
    "max_length = max(len(value) for value in dict_AirmaxTW.values())\n",
    "for key, value in dict_AirmaxTW.items():\n",
    "    dict_AirmaxTW[key] = value + [0] * (max_length - len(value))\n",
    "AirmaxTW = pd.DataFrame(dict_AirmaxTW) \n",
    "\n",
    "\n",
    "d =  id_airmaxTWm\n",
    "print(len(d))\n",
    "\n",
    "AirmaxTW = AirmaxTW.head(7)"
   ]
  },
  {
   "cell_type": "markdown",
   "metadata": {},
   "source": [
    "Vapor Max"
   ]
  },
  {
   "cell_type": "code",
   "execution_count": 189,
   "metadata": {},
   "outputs": [],
   "source": [
    "VaporMAXm = \"https://www.nike.com/es/w/hombre-vapormax-lifestyle-zapatillas-13jrmz220dznik1zy7ok\"\n",
    "name_vapormaxm = get_name(VaporMAXm)\n",
    "id_vapormaxm = get_nike_ids(VaporMAXm)\n",
    "price_vapormaxm = get_prices(VaporMAXm)\n",
    "gender_vapormaxm = get_gender(VaporMAXm)\n",
    "colors_vapormaxm = available_count_colors(VaporMAXm)"
   ]
  },
  {
   "cell_type": "code",
   "execution_count": 190,
   "metadata": {},
   "outputs": [],
   "source": [
    "VaporMAXw = \"https://www.nike.com/es/w/mujer-vapormax-lifestyle-zapatillas-13jrmz220dz5e1x6zy7ok\"\n",
    "name_vapormaxw = get_name(VaporMAXw)\n",
    "id_vapormaxw = get_nike_ids(VaporMAXw)\n",
    "price_vapormaxw = get_prices(VaporMAXw)\n",
    "gender_vapormaxw = get_gender(VaporMAXw)\n",
    "colors_vapormaxw = available_count_colors(VaporMAXw)"
   ]
  },
  {
   "cell_type": "code",
   "execution_count": 191,
   "metadata": {},
   "outputs": [
    {
     "name": "stdout",
     "output_type": "stream",
     "text": [
      "11\n"
     ]
    }
   ],
   "source": [
    "dict_VaporMAX= {\n",
    "    \"name\": name_vapormaxm + name_vapormaxw,\n",
    "    \"id\": id_vapormaxm + id_vapormaxw,\n",
    "    \"price\": price_vapormaxm + price_vapormaxw,\n",
    "    \"gender\": gender_vapormaxm  + gender_vapormaxw,\n",
    "    \"colors\": colors_vapormaxm + colors_vapormaxw\n",
    "}\n",
    "\n",
    "max_length = max(len(value) for value in dict_VaporMAX.values())\n",
    "for key, value in dict_VaporMAX.items():\n",
    "    dict_VaporMAX[key] = value + [0] * (max_length - len(value))\n",
    "VaporMAX = pd.DataFrame(dict_VaporMAX) \n",
    "\n",
    "d = id_vapormaxm + id_vapormaxw\n",
    "print(len(d))\n",
    "\n",
    "VaporMAX = VaporMAX.head(11)"
   ]
  },
  {
   "cell_type": "markdown",
   "metadata": {},
   "source": [
    "Dunk"
   ]
  },
  {
   "cell_type": "code",
   "execution_count": 192,
   "metadata": {},
   "outputs": [],
   "source": [
    "Dunksm = \"https://www.nike.com/es/w/hombre-dunk-lifestyle-zapatillas-13jrmz90aohznik1zy7ok\"\n",
    "name_dunkm = get_name(Dunksm)\n",
    "id_dunkm = get_nike_ids(Dunksm)\n",
    "price_dunkm = get_prices(Dunksm)\n",
    "gender_dunkm = get_gender(Dunksm)\n",
    "colors_dunkm = available_count_colors(Dunksm)"
   ]
  },
  {
   "cell_type": "code",
   "execution_count": 193,
   "metadata": {},
   "outputs": [],
   "source": [
    "Dunksw = \"https://www.nike.com/es/w/mujer-dunk-lifestyle-zapatillas-13jrmz5e1x6z90aohzy7ok\"\n",
    "name_dunkw = get_name(Dunksw)\n",
    "id_dunkw = get_nike_ids(Dunksw)\n",
    "price_dunkw = get_prices(Dunksw)\n",
    "gender_dunkw = get_gender(Dunksw)\n",
    "colors_dunkw = available_count_colors(Dunksw)"
   ]
  },
  {
   "cell_type": "code",
   "execution_count": 194,
   "metadata": {},
   "outputs": [],
   "source": [
    "Dunksu = \"https://www.nike.com/es/w/unisex-dunk-lifestyle-zapatillas-13jrmz3rauvz90aohzy7ok\"\n",
    "name_dunku = get_name(Dunksu)\n",
    "id_dunku = get_nike_ids(Dunksu)\n",
    "price_dunku = get_prices(Dunksu)\n",
    "gender_dunku = get_gender(Dunksu)\n",
    "colors_dunku = available_count_colors(Dunksu)"
   ]
  },
  {
   "cell_type": "code",
   "execution_count": 195,
   "metadata": {},
   "outputs": [
    {
     "name": "stdout",
     "output_type": "stream",
     "text": [
      "48\n"
     ]
    }
   ],
   "source": [
    "dict_Dunk = {\n",
    "    \"name\": name_dunkm + name_dunkw + name_dunku,\n",
    "    \"id\": id_dunkm + id_dunkw + id_dunku,\n",
    "    \"price\": price_dunkm + price_dunkw + price_dunku,\n",
    "    \"gender\": gender_dunkm  + gender_dunkw + gender_dunku,\n",
    "    \"colors\": colors_dunkm + colors_dunkw + colors_dunku\n",
    "}\n",
    "\n",
    "max_length = max(len(value) for value in dict_Dunk.values())\n",
    "for key, value in dict_Dunk.items():\n",
    "    dict_Dunk[key] = value + [0] * (max_length - len(value))\n",
    "Dunk = pd.DataFrame(dict_Dunk) \n",
    "\n",
    "d = id_dunkm + id_dunkw + id_dunku\n",
    "print(len(d))\n",
    "\n",
    "Dunk = Dunk.head(48)"
   ]
  },
  {
   "cell_type": "markdown",
   "metadata": {},
   "source": [
    "Blazer"
   ]
  },
  {
   "cell_type": "code",
   "execution_count": 196,
   "metadata": {},
   "outputs": [],
   "source": [
    "Blazersm = \"https://www.nike.com/es/w/hombre-blazer-lifestyle-zapatillas-13jrmz9gw3aznik1zy7ok\"\n",
    "name_blazerm = get_name(Blazersm)\n",
    "id_blazerm = get_nike_ids(Blazersm)\n",
    "price_blazerm = get_prices(Blazersm)\n",
    "gender_blazerm = get_gender(Blazersm)\n",
    "colors_blazerm = available_count_colors(Blazersm)"
   ]
  },
  {
   "cell_type": "code",
   "execution_count": 197,
   "metadata": {},
   "outputs": [],
   "source": [
    "Blazersw = \"https://www.nike.com/es/w/mujer-blazer-lifestyle-zapatillas-13jrmz5e1x6z9gw3azy7ok\"\n",
    "name_blazerw = get_name(Blazersw)\n",
    "id_blazerw = get_nike_ids(Blazersw)\n",
    "price_blazerw = get_prices(Blazersw)\n",
    "gender_blazerw = get_gender(Blazersw)\n",
    "colors_blazerw = available_count_colors(Blazersw)"
   ]
  },
  {
   "cell_type": "code",
   "execution_count": 198,
   "metadata": {},
   "outputs": [],
   "source": [
    "Blazersu = \"https://www.nike.com/es/w/unisex-blazer-lifestyle-zapatillas-13jrmz3rauvz9gw3azy7ok\"\n",
    "name_blazeru = get_name(Blazersu)\n",
    "id_blazeru = get_nike_ids(Blazersu)\n",
    "price_blazeru = get_prices(Blazersu)\n",
    "gender_blazeru = get_gender(Blazersu)\n",
    "colors_blazeru = available_count_colors(Blazersu)"
   ]
  },
  {
   "cell_type": "code",
   "execution_count": 238,
   "metadata": {},
   "outputs": [
    {
     "name": "stdout",
     "output_type": "stream",
     "text": [
      "30\n"
     ]
    },
    {
     "data": {
      "text/html": [
       "<div>\n",
       "<style scoped>\n",
       "    .dataframe tbody tr th:only-of-type {\n",
       "        vertical-align: middle;\n",
       "    }\n",
       "\n",
       "    .dataframe tbody tr th {\n",
       "        vertical-align: top;\n",
       "    }\n",
       "\n",
       "    .dataframe thead th {\n",
       "        text-align: right;\n",
       "    }\n",
       "</style>\n",
       "<table border=\"1\" class=\"dataframe\">\n",
       "  <thead>\n",
       "    <tr style=\"text-align: right;\">\n",
       "      <th></th>\n",
       "      <th>name</th>\n",
       "      <th>id</th>\n",
       "      <th>price</th>\n",
       "      <th>gender</th>\n",
       "      <th>colors</th>\n",
       "    </tr>\n",
       "  </thead>\n",
       "  <tbody>\n",
       "    <tr>\n",
       "      <th>0</th>\n",
       "      <td>Nike Blazer Low '77 Vintage</td>\n",
       "      <td>DA6364-101</td>\n",
       "      <td>119,99</td>\n",
       "      <td>Hombre</td>\n",
       "      <td>2</td>\n",
       "    </tr>\n",
       "    <tr>\n",
       "      <th>1</th>\n",
       "      <td>Nike Blazer Mid '77 Vintage</td>\n",
       "      <td>BQ6806-100</td>\n",
       "      <td>129,99</td>\n",
       "      <td>Hombre</td>\n",
       "      <td>3</td>\n",
       "    </tr>\n",
       "    <tr>\n",
       "      <th>2</th>\n",
       "      <td>Nike Blazer Mid '77 By You</td>\n",
       "      <td>8531693031</td>\n",
       "      <td>129,99</td>\n",
       "      <td>Hombre</td>\n",
       "      <td>2</td>\n",
       "    </tr>\n",
       "    <tr>\n",
       "      <th>3</th>\n",
       "      <td>Nike Blazer Low '77 By You</td>\n",
       "      <td>8503720255</td>\n",
       "      <td>149,99</td>\n",
       "      <td>Hombre</td>\n",
       "      <td>2</td>\n",
       "    </tr>\n",
       "    <tr>\n",
       "      <th>4</th>\n",
       "      <td>Nike Blazer Phantom Mid</td>\n",
       "      <td>DX5800-001</td>\n",
       "      <td>119,99</td>\n",
       "      <td>Hombre</td>\n",
       "      <td>1</td>\n",
       "    </tr>\n",
       "    <tr>\n",
       "      <th>5</th>\n",
       "      <td>Nike Blazer Mid '77</td>\n",
       "      <td>FN6877-100</td>\n",
       "      <td>129,99</td>\n",
       "      <td>Hombre</td>\n",
       "      <td>10</td>\n",
       "    </tr>\n",
       "    <tr>\n",
       "      <th>6</th>\n",
       "      <td>Nike x sacai Blazer Low</td>\n",
       "      <td>DD1877-002</td>\n",
       "      <td>139,99</td>\n",
       "      <td>Hombre</td>\n",
       "      <td>2</td>\n",
       "    </tr>\n",
       "    <tr>\n",
       "      <th>7</th>\n",
       "      <td>Nike SB Zoom Blazer Mid</td>\n",
       "      <td>864349-002</td>\n",
       "      <td>119,99</td>\n",
       "      <td>Hombre</td>\n",
       "      <td>1</td>\n",
       "    </tr>\n",
       "    <tr>\n",
       "      <th>8</th>\n",
       "      <td>Nike SB Zoom Blazer Low Pro GT</td>\n",
       "      <td>DC7695-002</td>\n",
       "      <td>139,99</td>\n",
       "      <td>Hombre</td>\n",
       "      <td>1</td>\n",
       "    </tr>\n",
       "    <tr>\n",
       "      <th>9</th>\n",
       "      <td>Nike Blazer Mid Pro Club</td>\n",
       "      <td>DQ7673-100</td>\n",
       "      <td>129,99</td>\n",
       "      <td>Hombre</td>\n",
       "      <td>2</td>\n",
       "    </tr>\n",
       "    <tr>\n",
       "      <th>10</th>\n",
       "      <td>Nike Blazer Low '77 Jumbo</td>\n",
       "      <td>DN2158-101</td>\n",
       "      <td>119,99</td>\n",
       "      <td>Mujeres</td>\n",
       "      <td>2</td>\n",
       "    </tr>\n",
       "    <tr>\n",
       "      <th>11</th>\n",
       "      <td>Nike Blazer Mid '77 Vintage</td>\n",
       "      <td>BQ6806-124</td>\n",
       "      <td>129,99</td>\n",
       "      <td>Hombre</td>\n",
       "      <td>2</td>\n",
       "    </tr>\n",
       "    <tr>\n",
       "      <th>12</th>\n",
       "      <td>Nike Blazer Low Leather</td>\n",
       "      <td>CW7585-100</td>\n",
       "      <td>139,99</td>\n",
       "      <td>Hombre</td>\n",
       "      <td>1</td>\n",
       "    </tr>\n",
       "    <tr>\n",
       "      <th>13</th>\n",
       "      <td>Nike Blazer Mid '77 Jumbo</td>\n",
       "      <td>DD3111-100</td>\n",
       "      <td>149,99</td>\n",
       "      <td>Hombre</td>\n",
       "      <td>1</td>\n",
       "    </tr>\n",
       "    <tr>\n",
       "      <th>14</th>\n",
       "      <td>Nike x sacai Blazer Low</td>\n",
       "      <td>DD1877-200</td>\n",
       "      <td>119,99</td>\n",
       "      <td>Hombre</td>\n",
       "      <td>1</td>\n",
       "    </tr>\n",
       "    <tr>\n",
       "      <th>15</th>\n",
       "      <td>Nike Blazer Mid '77</td>\n",
       "      <td>FJ4827-100</td>\n",
       "      <td>129,99</td>\n",
       "      <td>Hombre</td>\n",
       "      <td>1</td>\n",
       "    </tr>\n",
       "    <tr>\n",
       "      <th>16</th>\n",
       "      <td>Nike Blazer Mid '77</td>\n",
       "      <td>FN7809-100</td>\n",
       "      <td>129,99</td>\n",
       "      <td>Hombre</td>\n",
       "      <td>1</td>\n",
       "    </tr>\n",
       "    <tr>\n",
       "      <th>17</th>\n",
       "      <td>Nike Blazer Mid '77</td>\n",
       "      <td>CZ1055-125</td>\n",
       "      <td>149,99</td>\n",
       "      <td>Hombre</td>\n",
       "      <td>1</td>\n",
       "    </tr>\n",
       "    <tr>\n",
       "      <th>18</th>\n",
       "      <td>Nike Blazer Low Platform</td>\n",
       "      <td>DJ0292-103</td>\n",
       "      <td>119,99</td>\n",
       "      <td>Hombre</td>\n",
       "      <td>1</td>\n",
       "    </tr>\n",
       "    <tr>\n",
       "      <th>19</th>\n",
       "      <td>Nike Blazer Mid '77 By You</td>\n",
       "      <td>DR2948-100</td>\n",
       "      <td>129,99</td>\n",
       "      <td>Hombre</td>\n",
       "      <td>2</td>\n",
       "    </tr>\n",
       "    <tr>\n",
       "      <th>20</th>\n",
       "      <td>Nike Blazer Mid '77 Vintage</td>\n",
       "      <td>2319875403</td>\n",
       "      <td>139,99</td>\n",
       "      <td>Hombre</td>\n",
       "      <td>1</td>\n",
       "    </tr>\n",
       "    <tr>\n",
       "      <th>21</th>\n",
       "      <td>Nike Blazer Low '77 Jumbo</td>\n",
       "      <td>DV7006-400</td>\n",
       "      <td>119,99</td>\n",
       "      <td>Hombre</td>\n",
       "      <td>1</td>\n",
       "    </tr>\n",
       "    <tr>\n",
       "      <th>22</th>\n",
       "      <td>Nike Blazer Low '77</td>\n",
       "      <td>DQ1470-106</td>\n",
       "      <td>139,99</td>\n",
       "      <td>Hombre</td>\n",
       "      <td>1</td>\n",
       "    </tr>\n",
       "    <tr>\n",
       "      <th>23</th>\n",
       "      <td>Nike Blazer Mid Victory</td>\n",
       "      <td>DC4769-102</td>\n",
       "      <td>129,99</td>\n",
       "      <td>Hombre</td>\n",
       "      <td>1</td>\n",
       "    </tr>\n",
       "    <tr>\n",
       "      <th>24</th>\n",
       "      <td>Nike Blazer Mid '77 Premium</td>\n",
       "      <td>FQ8173-104</td>\n",
       "      <td>119,99</td>\n",
       "      <td>Hombre</td>\n",
       "      <td>2</td>\n",
       "    </tr>\n",
       "    <tr>\n",
       "      <th>25</th>\n",
       "      <td>Nike Blazer Low '77 By You</td>\n",
       "      <td>864349-002</td>\n",
       "      <td>129,99</td>\n",
       "      <td>Hombre</td>\n",
       "      <td>2</td>\n",
       "    </tr>\n",
       "    <tr>\n",
       "      <th>26</th>\n",
       "      <td>Nike SB Zoom Blazer Mid</td>\n",
       "      <td>3824793890</td>\n",
       "      <td>139,99</td>\n",
       "      <td>Hombre</td>\n",
       "      <td>1</td>\n",
       "    </tr>\n",
       "    <tr>\n",
       "      <th>27</th>\n",
       "      <td>Nike SB Zoom Blazer Low Pro GT</td>\n",
       "      <td>DC7695-002</td>\n",
       "      <td>149,99</td>\n",
       "      <td>Hombre</td>\n",
       "      <td>10</td>\n",
       "    </tr>\n",
       "    <tr>\n",
       "      <th>28</th>\n",
       "      <td>Nike SB Zoom Blazer Low Pro GT</td>\n",
       "      <td>DC7695-002</td>\n",
       "      <td>119,99</td>\n",
       "      <td>Hombre</td>\n",
       "      <td>2</td>\n",
       "    </tr>\n",
       "    <tr>\n",
       "      <th>29</th>\n",
       "      <td>Nike SB Zoom Blazer Mid</td>\n",
       "      <td>864349-002</td>\n",
       "      <td>129,99</td>\n",
       "      <td>Hombre</td>\n",
       "      <td>3</td>\n",
       "    </tr>\n",
       "  </tbody>\n",
       "</table>\n",
       "</div>"
      ],
      "text/plain": [
       "                              name          id   price   gender colors\n",
       "0      Nike Blazer Low '77 Vintage  DA6364-101  119,99   Hombre      2\n",
       "1      Nike Blazer Mid '77 Vintage  BQ6806-100  129,99   Hombre      3\n",
       "2       Nike Blazer Mid '77 By You  8531693031  129,99   Hombre      2\n",
       "3       Nike Blazer Low '77 By You  8503720255  149,99   Hombre      2\n",
       "4          Nike Blazer Phantom Mid  DX5800-001  119,99   Hombre      1\n",
       "5              Nike Blazer Mid '77  FN6877-100  129,99   Hombre     10\n",
       "6          Nike x sacai Blazer Low  DD1877-002  139,99   Hombre      2\n",
       "7          Nike SB Zoom Blazer Mid  864349-002  119,99   Hombre      1\n",
       "8   Nike SB Zoom Blazer Low Pro GT  DC7695-002  139,99   Hombre      1\n",
       "9         Nike Blazer Mid Pro Club  DQ7673-100  129,99   Hombre      2\n",
       "10       Nike Blazer Low '77 Jumbo  DN2158-101  119,99  Mujeres      2\n",
       "11     Nike Blazer Mid '77 Vintage  BQ6806-124  129,99   Hombre      2\n",
       "12         Nike Blazer Low Leather  CW7585-100  139,99   Hombre      1\n",
       "13       Nike Blazer Mid '77 Jumbo  DD3111-100  149,99   Hombre      1\n",
       "14         Nike x sacai Blazer Low  DD1877-200  119,99   Hombre      1\n",
       "15             Nike Blazer Mid '77  FJ4827-100  129,99   Hombre      1\n",
       "16             Nike Blazer Mid '77  FN7809-100  129,99   Hombre      1\n",
       "17             Nike Blazer Mid '77  CZ1055-125  149,99   Hombre      1\n",
       "18        Nike Blazer Low Platform  DJ0292-103  119,99   Hombre      1\n",
       "19      Nike Blazer Mid '77 By You  DR2948-100  129,99   Hombre      2\n",
       "20     Nike Blazer Mid '77 Vintage  2319875403  139,99   Hombre      1\n",
       "21       Nike Blazer Low '77 Jumbo  DV7006-400  119,99   Hombre      1\n",
       "22             Nike Blazer Low '77  DQ1470-106  139,99   Hombre      1\n",
       "23         Nike Blazer Mid Victory  DC4769-102  129,99   Hombre      1\n",
       "24     Nike Blazer Mid '77 Premium  FQ8173-104  119,99   Hombre      2\n",
       "25      Nike Blazer Low '77 By You  864349-002  129,99   Hombre      2\n",
       "26         Nike SB Zoom Blazer Mid  3824793890  139,99   Hombre      1\n",
       "27  Nike SB Zoom Blazer Low Pro GT  DC7695-002  149,99   Hombre     10\n",
       "28  Nike SB Zoom Blazer Low Pro GT  DC7695-002  119,99   Hombre      2\n",
       "29         Nike SB Zoom Blazer Mid  864349-002  129,99   Hombre      3"
      ]
     },
     "execution_count": 238,
     "metadata": {},
     "output_type": "execute_result"
    }
   ],
   "source": [
    "dict_Blazer = {\n",
    "    \"name\": name_blazerm + name_blazerw + name_blazeru,\n",
    "    \"id\": id_blazerm + id_blazerw + id_blazeru,\n",
    "    \"price\": price_blazerm + price_blazerw + price_blazeru,\n",
    "    \"gender\": gender_blazerm  + gender_blazerw + gender_blazeru,\n",
    "    \"colors\": colors_blazerm + colors_blazerw + colors_blazeru\n",
    "}\n",
    "\n",
    "max_length = max(len(value) for value in dict_Blazer.values())\n",
    "for key, value in dict_Blazer.items():\n",
    "    dict_Blazer[key] = value + [0] * (max_length - len(value))\n",
    "Blazer = pd.DataFrame(dict_Blazer) \n",
    "\n",
    "d = id_blazerm + id_blazerw + id_blazeru\n",
    "print(len(d))\n",
    "\n",
    "Blazer = Blazer.head(30)\n",
    "Blazer"
   ]
  },
  {
   "cell_type": "markdown",
   "metadata": {},
   "source": [
    "Jordan Low"
   ]
  },
  {
   "cell_type": "code",
   "execution_count": 200,
   "metadata": {},
   "outputs": [],
   "source": [
    "JordanLowm = \"https://www.nike.com/es/w/hombre-jordan-lifestyle-perfil-bajo-zapatillas-13jrmz37eefz7hf8eznik1zy7ok\"\n",
    "name_jlowm = get_name(JordanLowm)\n",
    "id_jlowm = get_nike_ids(JordanLowm)\n",
    "price_jlowm = get_prices(JordanLowm)\n",
    "gender_jlowm = get_gender(JordanLowm)\n",
    "colors_jlowm = available_count_colors(JordanLowm)"
   ]
  },
  {
   "cell_type": "code",
   "execution_count": 201,
   "metadata": {},
   "outputs": [],
   "source": [
    "JordanLoww = \"https://www.nike.com/es/w/mujer-jordan-lifestyle-perfil-bajo-zapatillas-13jrmz37eefz5e1x6z7hf8ezy7ok\"\n",
    "name_jloww = get_name(JordanLoww)\n",
    "id_jloww = get_nike_ids(JordanLoww)\n",
    "price_jloww = get_prices(JordanLoww)\n",
    "gender_jloww = get_gender(JordanLoww)\n",
    "colors_jloww = available_count_colors(JordanLoww)"
   ]
  },
  {
   "cell_type": "code",
   "execution_count": 202,
   "metadata": {},
   "outputs": [
    {
     "name": "stdout",
     "output_type": "stream",
     "text": [
      "48\n"
     ]
    }
   ],
   "source": [
    "dict_Jordans= {\n",
    "    \"name\": name_jlowm + name_jloww,\n",
    "    \"id\": id_jlowm + id_jloww,\n",
    "    \"price\": price_jlowm + price_jloww,\n",
    "    \"gender\": gender_jlowm  + gender_jloww,\n",
    "    \"colors\": colors_jlowm + colors_jloww\n",
    "}\n",
    "\n",
    "max_length = max(len(value) for value in dict_Jordans.values())\n",
    "for key, value in dict_Jordans.items():\n",
    "    dict_Jordans[key] = value + [0] * (max_length - len(value))\n",
    "Jordans = pd.DataFrame(dict_Jordans) \n",
    "\n",
    "d = id_jlowm + id_jloww\n",
    "print(len(d))\n",
    "\n",
    "Jordans = Jordans.head(48)"
   ]
  },
  {
   "cell_type": "markdown",
   "metadata": {},
   "source": [
    "Jordan Mid"
   ]
  },
  {
   "cell_type": "code",
   "execution_count": 203,
   "metadata": {},
   "outputs": [],
   "source": [
    "JordanMidm = \"https://www.nike.com/es/w/hombre-jordan-lifestyle-perfil-medio-zapatillas-13jrmz1pi6yz37eefznik1zy7ok\"\n",
    "name_jmidm = get_name(JordanMidm)\n",
    "id_jmidm = get_nike_ids(JordanMidm)\n",
    "price_jmidm = get_prices(JordanMidm)\n",
    "gender_jmidm = get_gender(JordanMidm)\n",
    "colors_jmidm= available_count_colors(JordanMidm)"
   ]
  },
  {
   "cell_type": "code",
   "execution_count": 204,
   "metadata": {},
   "outputs": [],
   "source": [
    "JordanMidw = \"https://www.nike.com/es/w/mujer-jordan-lifestyle-perfil-medio-zapatillas-13jrmz1pi6yz37eefz5e1x6zy7ok\"\n",
    "name_jmidw = get_name(JordanMidw)\n",
    "id_jmidw = get_nike_ids(JordanMidw)\n",
    "price_jmidw = get_prices(JordanMidw)\n",
    "gender_jmidw = get_gender(JordanMidw)\n",
    "colors_jmidw = available_count_colors(JordanMidw)"
   ]
  },
  {
   "cell_type": "code",
   "execution_count": 205,
   "metadata": {},
   "outputs": [
    {
     "name": "stdout",
     "output_type": "stream",
     "text": [
      "48\n"
     ]
    }
   ],
   "source": [
    "dict_Jordansmid= {\n",
    "    \"name\": name_jmidm + name_jmidw, \n",
    "    \"id\": id_jmidm + id_jmidw,\n",
    "    \"price\": price_jmidm + price_jmidw,\n",
    "    \"gender\": gender_jmidm  + gender_jmidw,\n",
    "    \"colors\": colors_jmidm + colors_jmidw\n",
    "}\n",
    "\n",
    "max_length = max(len(value) for value in dict_Jordansmid.values())\n",
    "for key, value in dict_Jordansmid.items():\n",
    "    dict_Jordansmid[key] = value + [0] * (max_length - len(value))\n",
    "Jordansmid = pd.DataFrame(dict_Jordansmid) \n",
    "\n",
    "d = id_jmidm + id_jmidw\n",
    "print(len(d))\n",
    "\n",
    "Jordansmid = Jordansmid.head(48)"
   ]
  },
  {
   "cell_type": "markdown",
   "metadata": {},
   "source": [
    "Jordan High"
   ]
  },
  {
   "cell_type": "code",
   "execution_count": 206,
   "metadata": {},
   "outputs": [],
   "source": [
    "JordanHighm = \"https://www.nike.com/es/w/hombre-jordan-lifestyle-perfil-alto-zapatillas-13jrmz37eefz6lqy0znik1zy7ok\"\n",
    "name_jhighm= get_name(JordanHighm)\n",
    "id_jhighm = get_nike_ids(JordanHighm)\n",
    "price_jhighm = get_prices(JordanHighm)\n",
    "gender_jhighm = get_gender(JordanHighm)\n",
    "colors_jhighm = available_count_colors(JordanHighm)"
   ]
  },
  {
   "cell_type": "code",
   "execution_count": 207,
   "metadata": {},
   "outputs": [],
   "source": [
    "JordanHighw = \"https://www.nike.com/es/w/mujer-jordan-lifestyle-perfil-alto-zapatillas-13jrmz37eefz5e1x6z6lqy0zy7ok\"\n",
    "name_jhighw= get_name(JordanHighw)\n",
    "id_jhighw = get_nike_ids(JordanHighw)\n",
    "price_jhighw = get_prices(JordanHighw)\n",
    "gender_jhighw = get_gender(JordanHighw)\n",
    "colors_jhighw = available_count_colors(JordanHighw)"
   ]
  },
  {
   "cell_type": "code",
   "execution_count": 208,
   "metadata": {},
   "outputs": [
    {
     "name": "stdout",
     "output_type": "stream",
     "text": [
      "26\n"
     ]
    }
   ],
   "source": [
    "dict_Jordanshigh= {\n",
    "    \"name\": name_jhighm + name_jhighw,\n",
    "    \"id\": id_jhighm + id_jhighw,\n",
    "    \"price\": price_jhighm + price_jhighw,\n",
    "    \"gender\": gender_jhighm  + gender_jhighw,\n",
    "    \"colors\": colors_jhighm + colors_jhighw\n",
    "}\n",
    "\n",
    "max_length = max(len(value) for value in dict_Jordanshigh.values())\n",
    "for key, value in dict_Jordanshigh.items():\n",
    "    dict_Jordanshigh[key] = value + [0] * (max_length - len(value))\n",
    "Jordanshigh = pd.DataFrame(dict_Jordanshigh) \n",
    "\n",
    "d = id_jhighm + id_jhighw\n",
    "print(len(d))\n",
    "\n",
    "Jordanshigh = Jordanshigh.head(26)"
   ]
  },
  {
   "cell_type": "markdown",
   "metadata": {},
   "source": [
    "Voomero"
   ]
  },
  {
   "cell_type": "code",
   "execution_count": 209,
   "metadata": {},
   "outputs": [],
   "source": [
    "Voomm =  \"https://www.nike.com/es/w/hombre-zoom-vomero-lifestyle-zapatillas-13jrmz7gee1znik1zy7ok\"\n",
    "name_voomm= get_name(Voomm)\n",
    "id_voomm = get_nike_ids(Voomm)\n",
    "price_voomm = get_prices(Voomm)\n",
    "gender_voomm = get_gender(Voomm)\n",
    "colors_voomm = available_count_colors(Voomm)"
   ]
  },
  {
   "cell_type": "code",
   "execution_count": 210,
   "metadata": {},
   "outputs": [],
   "source": [
    "Voomw =  \"https://www.nike.com/es/w/mujer-zoom-vomero-lifestyle-zapatillas-13jrmz5e1x6z7gee1zy7ok\"\n",
    "name_voomw= get_name(Voomw)\n",
    "id_voomw = get_nike_ids(Voomw)\n",
    "price_voomw = get_prices(Voomw)\n",
    "gender_voomw = get_gender(Voomw)\n",
    "colors_voomw = available_count_colors(Voomw)"
   ]
  },
  {
   "cell_type": "code",
   "execution_count": 211,
   "metadata": {},
   "outputs": [],
   "source": [
    "Voomu =  \"https://www.nike.com/es/w/unisex-zoom-vomero-lifestyle-zapatillas-13jrmz3rauvz7gee1zy7ok\"\n",
    "name_voomu = get_name(Voomw)\n",
    "id_voomu = get_nike_ids(Voomu)\n",
    "price_voomu = get_prices(Voomu)\n",
    "gender_voomu = get_gender(Voomu)\n",
    "colors_voomu = available_count_colors(Voomu)"
   ]
  },
  {
   "cell_type": "code",
   "execution_count": 212,
   "metadata": {},
   "outputs": [
    {
     "name": "stdout",
     "output_type": "stream",
     "text": [
      "7\n"
     ]
    }
   ],
   "source": [
    "dict_Voom = {\n",
    "    \"name\": name_voomm + name_voomw + name_voomu,\n",
    "    \"id\": id_voomm + id_voomw + id_voomu,\n",
    "    \"price\": price_voomm + price_voomw + price_voomu,\n",
    "    \"gender\": gender_voomm  + gender_voomw + gender_voomu,\n",
    "    \"colors\": colors_voomm + colors_voomw + colors_voomu\n",
    "}\n",
    "\n",
    "max_length = max(len(value) for value in dict_Voom.values())\n",
    "for key, value in dict_Voom.items():\n",
    "    dict_Voom[key] = value + [0] * (max_length - len(value))\n",
    "Voom = pd.DataFrame(dict_Voom) \n",
    "\n",
    "\n",
    "d = id_voomm + id_voomw + id_voomu\n",
    "print(len(d))\n",
    "\n",
    "Voom = Voom.head(7)"
   ]
  },
  {
   "cell_type": "markdown",
   "metadata": {},
   "source": [
    "Basket"
   ]
  },
  {
   "cell_type": "markdown",
   "metadata": {},
   "source": [
    "LeBron James"
   ]
  },
  {
   "cell_type": "code",
   "execution_count": 213,
   "metadata": {},
   "outputs": [],
   "source": [
    "LeBronJames = \"https://www.nike.com/es/w/lebron-baloncesto-zapatillas-3glsmz3rauvz5e1x6z7y57xznik1zy7ok\"\n",
    "name_lbj= get_name(LeBronJames)\n",
    "id_lbj = get_nike_ids(LeBronJames)\n",
    "price_lbj = get_prices(LeBronJames)\n",
    "gender_lbj = get_gender(LeBronJames)\n",
    "colors_lbj = available_count_colors(LeBronJames)"
   ]
  },
  {
   "cell_type": "code",
   "execution_count": 214,
   "metadata": {},
   "outputs": [
    {
     "name": "stdout",
     "output_type": "stream",
     "text": [
      "7\n"
     ]
    }
   ],
   "source": [
    "dict_LeBron = {\n",
    "    \"name\": name_lbj, \n",
    "    \"id\": id_lbj,\n",
    "    \"price\": price_lbj,\n",
    "    \"gender\": gender_lbj,\n",
    "    \"colors\": colors_lbj\n",
    "}\n",
    "\n",
    "max_length = max(len(value) for value in dict_LeBron.values())\n",
    "for key, value in dict_LeBron.items():\n",
    "    dict_LeBron[key] = value + [0] * (max_length - len(value))\n",
    "LeBron = pd.DataFrame(dict_LeBron) \n",
    "\n",
    "d = id_lbj\n",
    "print(len(d))\n",
    "\n",
    "LeBron = LeBron.head(7)"
   ]
  },
  {
   "cell_type": "markdown",
   "metadata": {},
   "source": [
    "Kevin Durant"
   ]
  },
  {
   "cell_type": "code",
   "execution_count": 215,
   "metadata": {},
   "outputs": [],
   "source": [
    "KD = \"https://www.nike.com/es/w/kevin-durant-baloncesto-zapatillas-3glsmz3hmd1z3rauvz5e1x6znik1zy7ok\" \n",
    "name_kd= get_name(KD)\n",
    "id_kd = get_nike_ids(KD)\n",
    "price_kd = get_prices(KD)\n",
    "gender_kd = get_gender(KD)\n",
    "colors_kd = available_count_colors(KD)"
   ]
  },
  {
   "cell_type": "code",
   "execution_count": 216,
   "metadata": {},
   "outputs": [
    {
     "name": "stdout",
     "output_type": "stream",
     "text": [
      "4\n"
     ]
    }
   ],
   "source": [
    "dict_KD = {\n",
    "    \"name\": name_kd,\n",
    "    \"id\": id_kd,\n",
    "    \"price\": price_kd,\n",
    "    \"gender\": gender_kd,\n",
    "    \"colors\": colors_kd\n",
    "}\n",
    "\n",
    "max_length = max(len(value) for value in dict_KD.values())\n",
    "for key, value in dict_KD.items():\n",
    "    dict_KD[key] = value + [0] * (max_length - len(value))\n",
    "KD = pd.DataFrame(dict_KD) \n",
    "\n",
    "d = id_kd\n",
    "print(len(d))\n",
    "\n",
    "KD = KD.head(4)"
   ]
  },
  {
   "cell_type": "markdown",
   "metadata": {},
   "source": [
    "Giannis Antetokounmpo"
   ]
  },
  {
   "cell_type": "code",
   "execution_count": 217,
   "metadata": {},
   "outputs": [],
   "source": [
    "GiannisA = \"https://www.nike.com/es/w/giannis-antetokounmpo-baloncesto-zapatillas-2wfnqz3glsmz3rauvz5e1x6znik1zy7ok\"\n",
    "name_ga = get_name(GiannisA)\n",
    "id_ga = get_nike_ids(GiannisA)\n",
    "price_ga = get_prices(GiannisA)\n",
    "gender_ga = get_gender(GiannisA)\n",
    "colors_ga = available_count_colors(GiannisA)"
   ]
  },
  {
   "cell_type": "code",
   "execution_count": 218,
   "metadata": {},
   "outputs": [
    {
     "name": "stdout",
     "output_type": "stream",
     "text": [
      "8\n"
     ]
    }
   ],
   "source": [
    "dict_GA = {\n",
    "    \"name\": name_ga,\n",
    "    \"id\": id_ga,\n",
    "    \"price\": price_ga,\n",
    "    \"gender\": gender_ga,\n",
    "    \"colors\": colors_ga\n",
    "}\n",
    "\n",
    "max_length = max(len(value) for value in dict_GA.values())\n",
    "for key, value in dict_GA.items():\n",
    "    dict_GA[key] = value + [0] * (max_length - len(value))\n",
    "GA = pd.DataFrame(dict_GA) \n",
    "\n",
    "d = id_ga\n",
    "print(len(d))\n",
    "\n",
    "GA = GA.head(8)"
   ]
  },
  {
   "cell_type": "markdown",
   "metadata": {},
   "source": [
    "Sabrina Ionescu"
   ]
  },
  {
   "cell_type": "code",
   "execution_count": 219,
   "metadata": {},
   "outputs": [],
   "source": [
    "SabrinaI = \"https://www.nike.com/es/w/sabrina-ionescu-baloncesto-zapatillas-2h3kpz3glsmz3rauvz5e1x6znik1zy7ok\"\n",
    "name_si = get_name(SabrinaI)\n",
    "id_si = get_nike_ids(SabrinaI)\n",
    "price_si = get_prices(SabrinaI)\n",
    "gender_si = get_gender(SabrinaI)\n",
    "colors_si = available_count_colors(SabrinaI)"
   ]
  },
  {
   "cell_type": "code",
   "execution_count": 220,
   "metadata": {},
   "outputs": [
    {
     "name": "stdout",
     "output_type": "stream",
     "text": [
      "3\n"
     ]
    }
   ],
   "source": [
    "dict_SI = {\n",
    "    \"name\": name_si,\n",
    "    \"id\": id_si,\n",
    "    \"price\": price_si,\n",
    "    \"gender\": gender_si,\n",
    "    \"colors\": colors_si\n",
    "}\n",
    "\n",
    "max_length = max(len(value) for value in dict_SI.values())\n",
    "for key, value in dict_SI.items():\n",
    "    dict_SI[key] = value + [0] * (max_length - len(value))\n",
    "SI = pd.DataFrame(dict_SI) \n",
    "\n",
    "d = id_si\n",
    "print(len(d))\n",
    "\n",
    "SI= SI.head(3)"
   ]
  },
  {
   "cell_type": "markdown",
   "metadata": {},
   "source": [
    "Ja Morant"
   ]
  },
  {
   "cell_type": "code",
   "execution_count": 221,
   "metadata": {},
   "outputs": [],
   "source": [
    "JaMorant = \"https://www.nike.com/es/w/ja-morant-baloncesto-zapatillas-3glsmz3rauvz4m5h1z5e1x6znik1zy7ok\"\n",
    "name_jm = get_name(JaMorant)\n",
    "id_jm = get_nike_ids(JaMorant)\n",
    "price_jm = get_prices(JaMorant)\n",
    "gender_jm= get_gender(JaMorant)\n",
    "colors_jm = available_count_colors(JaMorant)"
   ]
  },
  {
   "cell_type": "code",
   "execution_count": 222,
   "metadata": {},
   "outputs": [
    {
     "name": "stdout",
     "output_type": "stream",
     "text": [
      "3\n"
     ]
    }
   ],
   "source": [
    "dict_JM = {\n",
    "    \"name\": name_jm,\n",
    "    \"id\": id_jm,\n",
    "    \"price\": price_jm,\n",
    "    \"gender\": gender_jm,\n",
    "    \"colors\": colors_jm\n",
    "}\n",
    "\n",
    "max_length = max(len(value) for value in dict_JM.values())\n",
    "for key, value in dict_JM.items():\n",
    "    dict_JM[key] = value + [0] * (max_length - len(value))\n",
    "JM = pd.DataFrame(dict_JM) \n",
    "\n",
    "d = id_jm\n",
    "print(len(d))\n",
    "\n",
    "JM= JM.head(3)"
   ]
  },
  {
   "cell_type": "markdown",
   "metadata": {},
   "source": [
    "Russell Westbrook "
   ]
  },
  {
   "cell_type": "code",
   "execution_count": 223,
   "metadata": {},
   "outputs": [],
   "source": [
    "RussellWestbrook = \"https://www.nike.com/es/w/russell-westbrook-baloncesto-zapatillas-3glsmz3rauvz5e1x6z8ib36znik1zy7ok\"\n",
    "name_rw = get_name(RussellWestbrook)\n",
    "id_rw = get_nike_ids(RussellWestbrook)\n",
    "price_rw = get_prices(RussellWestbrook)\n",
    "gender_rw = get_gender(RussellWestbrook)\n",
    "colors_rw = available_count_colors(RussellWestbrook)"
   ]
  },
  {
   "cell_type": "code",
   "execution_count": 224,
   "metadata": {},
   "outputs": [
    {
     "name": "stdout",
     "output_type": "stream",
     "text": [
      "8\n"
     ]
    }
   ],
   "source": [
    "dict_RW = {\n",
    "    \"name\": name_rw,\n",
    "    \"id\": id_rw,\n",
    "    \"price\": price_rw,\n",
    "    \"gender\": gender_rw,\n",
    "    \"colors\": colors_rw\n",
    "}\n",
    "\n",
    "max_length = max(len(value) for value in dict_RW.values())\n",
    "for key, value in dict_RW.items():\n",
    "    dict_RW[key] = value + [0] * (max_length - len(value))\n",
    "RW= pd.DataFrame(dict_RW) \n",
    "\n",
    "d = id_rw\n",
    "print(len(d))\n",
    "\n",
    "RW= RW.head(8)"
   ]
  },
  {
   "cell_type": "markdown",
   "metadata": {},
   "source": [
    "Jordan Basket"
   ]
  },
  {
   "cell_type": "code",
   "execution_count": 225,
   "metadata": {},
   "outputs": [],
   "source": [
    "Basketj = \"https://www.nike.com/es/w/jordan-baloncesto-zapatillas-37eefz3glsmzy7ok\"\n",
    "name_bj = get_name(Basketj)\n",
    "id_bj = get_nike_ids(Basketj)\n",
    "price_bj = get_prices(Basketj)\n",
    "gender_bj= get_gender(Basketj)\n",
    "colors_bj = available_count_colors(Basketj)"
   ]
  },
  {
   "cell_type": "code",
   "execution_count": 226,
   "metadata": {},
   "outputs": [
    {
     "name": "stdout",
     "output_type": "stream",
     "text": [
      "24\n"
     ]
    }
   ],
   "source": [
    "dict_JB = {\n",
    "    \"name\": name_bj,\n",
    "    \"id\": id_bj,\n",
    "    \"price\": price_bj,\n",
    "    \"gender\": gender_bj,\n",
    "    \"colors\": colors_bj\n",
    "}\n",
    "\n",
    "max_length = max(len(value) for value in dict_JB.values())\n",
    "for key, value in dict_JB.items():\n",
    "    dict_JB[key] = value + [0] * (max_length - len(value))\n",
    "JB = pd.DataFrame(dict_JB) \n",
    "\n",
    "d = id_bj\n",
    "print(len(d))\n",
    "\n",
    "JB= JB.head(24)"
   ]
  },
  {
   "cell_type": "markdown",
   "metadata": {},
   "source": [
    "Unifying Nike Dataset"
   ]
  },
  {
   "cell_type": "code",
   "execution_count": 227,
   "metadata": {},
   "outputs": [
    {
     "data": {
      "text/html": [
       "<div>\n",
       "<style scoped>\n",
       "    .dataframe tbody tr th:only-of-type {\n",
       "        vertical-align: middle;\n",
       "    }\n",
       "\n",
       "    .dataframe tbody tr th {\n",
       "        vertical-align: top;\n",
       "    }\n",
       "\n",
       "    .dataframe thead th {\n",
       "        text-align: right;\n",
       "    }\n",
       "</style>\n",
       "<table border=\"1\" class=\"dataframe\">\n",
       "  <thead>\n",
       "    <tr style=\"text-align: right;\">\n",
       "      <th></th>\n",
       "      <th>Product name</th>\n",
       "      <th>Product id</th>\n",
       "      <th>Listing price</th>\n",
       "      <th>Gender</th>\n",
       "      <th>Colors</th>\n",
       "    </tr>\n",
       "  </thead>\n",
       "  <tbody>\n",
       "    <tr>\n",
       "      <th>0</th>\n",
       "      <td>Nike Air Force 1 '07</td>\n",
       "      <td>DD8959-113</td>\n",
       "      <td>119,99</td>\n",
       "      <td>Hombre</td>\n",
       "      <td>2</td>\n",
       "    </tr>\n",
       "    <tr>\n",
       "      <th>1</th>\n",
       "      <td>Nike Air Force 1 '07</td>\n",
       "      <td>CI0919-116</td>\n",
       "      <td>129,99</td>\n",
       "      <td>Hombre</td>\n",
       "      <td>3</td>\n",
       "    </tr>\n",
       "    <tr>\n",
       "      <th>2</th>\n",
       "      <td>Nike Air Force 1 '07 LV8</td>\n",
       "      <td>DV7449-101</td>\n",
       "      <td>129,99</td>\n",
       "      <td>Hombre</td>\n",
       "      <td>2</td>\n",
       "    </tr>\n",
       "    <tr>\n",
       "      <th>3</th>\n",
       "      <td>Nike Air Force 1 '07</td>\n",
       "      <td>FQ7779-100</td>\n",
       "      <td>149,99</td>\n",
       "      <td>Hombre</td>\n",
       "      <td>2</td>\n",
       "    </tr>\n",
       "    <tr>\n",
       "      <th>4</th>\n",
       "      <td>Nike Air Force 1 '07</td>\n",
       "      <td>DX5883-100</td>\n",
       "      <td>119,99</td>\n",
       "      <td>Hombre</td>\n",
       "      <td>1</td>\n",
       "    </tr>\n",
       "  </tbody>\n",
       "</table>\n",
       "</div>"
      ],
      "text/plain": [
       "               Product name  Product id Listing price  Gender Colors\n",
       "0      Nike Air Force 1 '07  DD8959-113        119,99  Hombre      2\n",
       "1      Nike Air Force 1 '07  CI0919-116        129,99  Hombre      3\n",
       "2  Nike Air Force 1 '07 LV8  DV7449-101        129,99  Hombre      2\n",
       "3      Nike Air Force 1 '07  FQ7779-100        149,99  Hombre      2\n",
       "4      Nike Air Force 1 '07  DX5883-100        119,99  Hombre      1"
      ]
     },
     "execution_count": 227,
     "metadata": {},
     "output_type": "execute_result"
    }
   ],
   "source": [
    "final_dataset = pd.concat([AirForce1,Airmax1,Airmax90,Airmax95,Airmax97,Airmax270,Airmax270,AirmaxF,AirmaxP,Airmax2021,\n",
    "                           AirmaxPlus,AirmaxTW,VaporMAX,Dunk,Blazer,Jordanshigh,Jordansmid,Jordans,Voom,LeBron,KD,GA,SI,JM,RW,JB], \n",
    "                          axis=0).reset_index(drop=True)\n",
    "\n",
    "nike_shoes = final_dataset.rename(columns={\"name\": \"Product name\",\"id\":\"Product id\",\"price\":\"Listing price\",\"gender\":\"Gender\",\"colors\":\"Colors\" })\n",
    "nike_shoes.head()"
   ]
  },
  {
   "cell_type": "code",
   "execution_count": 228,
   "metadata": {},
   "outputs": [],
   "source": [
    "def get_category(product_category):\n",
    "    keywords = [\"Force\",\"Max\",\"VaporMax\",\"Dunk\",\"Blazer\",\"Retro\",\"Zoom\",\"FlyEasy\",\"Elevate\",\n",
    "                \"Acclimate\",\"SE\",\"ES\",\"MM\",\"Mid\",\"Jumpman\",\"Strong\",\"Ma\",\"Low\",\"Stadium\",\n",
    "                \"Brake\",\"Play\",\"Hex\",\"Sophia\",\"Loyal\",\"Vomero\"]\n",
    "\n",
    "    for keyword in keywords:\n",
    "        if keyword in product_category:\n",
    "            return \"Lifestyle\"\n",
    "    return \"Sports\"\n",
    "\n",
    "nike_shoes['Category'] = nike_shoes['Product name'].apply(get_category)"
   ]
  },
  {
   "cell_type": "code",
   "execution_count": 229,
   "metadata": {},
   "outputs": [],
   "source": [
    "nike_shoes[\"Listing price\"] = nike_shoes[\"Listing price\"].replace({',': '.'}, regex=True).astype(float)\n",
    "change_to_pesos = 23.78\n",
    "nike_shoes[\"Listing price\"] = nike_shoes[\"Listing price\"] * change_to_pesos\n",
    "nike_shoes[\"Listing price\"] = nike_shoes[\"Listing price\"].round()"
   ]
  },
  {
   "cell_type": "code",
   "execution_count": 230,
   "metadata": {},
   "outputs": [
    {
     "data": {
      "text/html": [
       "<div>\n",
       "<style scoped>\n",
       "    .dataframe tbody tr th:only-of-type {\n",
       "        vertical-align: middle;\n",
       "    }\n",
       "\n",
       "    .dataframe tbody tr th {\n",
       "        vertical-align: top;\n",
       "    }\n",
       "\n",
       "    .dataframe thead th {\n",
       "        text-align: right;\n",
       "    }\n",
       "</style>\n",
       "<table border=\"1\" class=\"dataframe\">\n",
       "  <thead>\n",
       "    <tr style=\"text-align: right;\">\n",
       "      <th></th>\n",
       "      <th>Product name</th>\n",
       "      <th>Product id</th>\n",
       "      <th>Listing price</th>\n",
       "      <th>Gender</th>\n",
       "      <th>Colors</th>\n",
       "      <th>Category</th>\n",
       "    </tr>\n",
       "  </thead>\n",
       "  <tbody>\n",
       "    <tr>\n",
       "      <th>0</th>\n",
       "      <td>Nike Air Force 1 '07</td>\n",
       "      <td>DD8959-113</td>\n",
       "      <td>2853.0</td>\n",
       "      <td>Hombre</td>\n",
       "      <td>2</td>\n",
       "      <td>Lifestyle</td>\n",
       "    </tr>\n",
       "    <tr>\n",
       "      <th>1</th>\n",
       "      <td>Nike Air Force 1 '07</td>\n",
       "      <td>CI0919-116</td>\n",
       "      <td>3091.0</td>\n",
       "      <td>Hombre</td>\n",
       "      <td>3</td>\n",
       "      <td>Lifestyle</td>\n",
       "    </tr>\n",
       "    <tr>\n",
       "      <th>2</th>\n",
       "      <td>Nike Air Force 1 '07 LV8</td>\n",
       "      <td>DV7449-101</td>\n",
       "      <td>3091.0</td>\n",
       "      <td>Hombre</td>\n",
       "      <td>2</td>\n",
       "      <td>Lifestyle</td>\n",
       "    </tr>\n",
       "    <tr>\n",
       "      <th>3</th>\n",
       "      <td>Nike Air Force 1 '07</td>\n",
       "      <td>FQ7779-100</td>\n",
       "      <td>3567.0</td>\n",
       "      <td>Hombre</td>\n",
       "      <td>2</td>\n",
       "      <td>Lifestyle</td>\n",
       "    </tr>\n",
       "    <tr>\n",
       "      <th>4</th>\n",
       "      <td>Nike Air Force 1 '07</td>\n",
       "      <td>DX5883-100</td>\n",
       "      <td>2853.0</td>\n",
       "      <td>Hombre</td>\n",
       "      <td>1</td>\n",
       "      <td>Lifestyle</td>\n",
       "    </tr>\n",
       "  </tbody>\n",
       "</table>\n",
       "</div>"
      ],
      "text/plain": [
       "               Product name  Product id  Listing price  Gender Colors  \\\n",
       "0      Nike Air Force 1 '07  DD8959-113         2853.0  Hombre      2   \n",
       "1      Nike Air Force 1 '07  CI0919-116         3091.0  Hombre      3   \n",
       "2  Nike Air Force 1 '07 LV8  DV7449-101         3091.0  Hombre      2   \n",
       "3      Nike Air Force 1 '07  FQ7779-100         3567.0  Hombre      2   \n",
       "4      Nike Air Force 1 '07  DX5883-100         2853.0  Hombre      1   \n",
       "\n",
       "    Category  \n",
       "0  Lifestyle  \n",
       "1  Lifestyle  \n",
       "2  Lifestyle  \n",
       "3  Lifestyle  \n",
       "4  Lifestyle  "
      ]
     },
     "execution_count": 230,
     "metadata": {},
     "output_type": "execute_result"
    }
   ],
   "source": [
    "nike_shoes.head()"
   ]
  },
  {
   "cell_type": "code",
   "execution_count": 231,
   "metadata": {},
   "outputs": [
    {
     "data": {
      "text/plain": [
       "Product name      object\n",
       "Product id        object\n",
       "Listing price    float64\n",
       "Gender            object\n",
       "Colors            object\n",
       "Category          object\n",
       "dtype: object"
      ]
     },
     "execution_count": 231,
     "metadata": {},
     "output_type": "execute_result"
    }
   ],
   "source": [
    "nike_shoes.dtypes"
   ]
  },
  {
   "cell_type": "code",
   "execution_count": 232,
   "metadata": {},
   "outputs": [],
   "source": [
    "nike_shoes.to_csv('nike_mine.csv', index=False)"
   ]
  },
  {
   "cell_type": "markdown",
   "metadata": {},
   "source": [
    "Merging our Nike-scripted dataset with the Nike Kaggle dataset"
   ]
  },
  {
   "cell_type": "code",
   "execution_count": 233,
   "metadata": {},
   "outputs": [
    {
     "data": {
      "text/html": [
       "<div>\n",
       "<style scoped>\n",
       "    .dataframe tbody tr th:only-of-type {\n",
       "        vertical-align: middle;\n",
       "    }\n",
       "\n",
       "    .dataframe tbody tr th {\n",
       "        vertical-align: top;\n",
       "    }\n",
       "\n",
       "    .dataframe thead th {\n",
       "        text-align: right;\n",
       "    }\n",
       "</style>\n",
       "<table border=\"1\" class=\"dataframe\">\n",
       "  <thead>\n",
       "    <tr style=\"text-align: right;\">\n",
       "      <th></th>\n",
       "      <th>Product name</th>\n",
       "      <th>Product id</th>\n",
       "      <th>Listing price</th>\n",
       "      <th>Sale price</th>\n",
       "      <th>Discount</th>\n",
       "      <th>Category</th>\n",
       "      <th>Rating</th>\n",
       "      <th>Reviews</th>\n",
       "    </tr>\n",
       "  </thead>\n",
       "  <tbody>\n",
       "    <tr>\n",
       "      <th>3064</th>\n",
       "      <td>Nike Mercurial Superfly 7 Club MG</td>\n",
       "      <td>AT7949-606</td>\n",
       "      <td>0</td>\n",
       "      <td>5995</td>\n",
       "      <td>0</td>\n",
       "      <td>Nike</td>\n",
       "      <td>0</td>\n",
       "      <td>0</td>\n",
       "    </tr>\n",
       "    <tr>\n",
       "      <th>2795</th>\n",
       "      <td>Nike Air VaporMax 2019</td>\n",
       "      <td>AR6631-004</td>\n",
       "      <td>15995</td>\n",
       "      <td>12797</td>\n",
       "      <td>0</td>\n",
       "      <td>Nike</td>\n",
       "      <td>38</td>\n",
       "      <td>24</td>\n",
       "    </tr>\n",
       "    <tr>\n",
       "      <th>3030</th>\n",
       "      <td>Nike Phantom Vision 2 Academy Dynamic Fit MG</td>\n",
       "      <td>CD4156-606</td>\n",
       "      <td>0</td>\n",
       "      <td>8495</td>\n",
       "      <td>0</td>\n",
       "      <td>Nike</td>\n",
       "      <td>0</td>\n",
       "      <td>0</td>\n",
       "    </tr>\n",
       "    <tr>\n",
       "      <th>2977</th>\n",
       "      <td>Nike Mercurial Vapor 13 Academy MDS TF</td>\n",
       "      <td>CJ1306-401</td>\n",
       "      <td>7495</td>\n",
       "      <td>5247</td>\n",
       "      <td>0</td>\n",
       "      <td>Nike</td>\n",
       "      <td>0</td>\n",
       "      <td>0</td>\n",
       "    </tr>\n",
       "    <tr>\n",
       "      <th>2879</th>\n",
       "      <td>Kyrie Flytrap 3 EP</td>\n",
       "      <td>CD0191-009</td>\n",
       "      <td>0</td>\n",
       "      <td>6495</td>\n",
       "      <td>0</td>\n",
       "      <td>Nike</td>\n",
       "      <td>0</td>\n",
       "      <td>0</td>\n",
       "    </tr>\n",
       "    <tr>\n",
       "      <th>2737</th>\n",
       "      <td>Nike Air Max 90</td>\n",
       "      <td>CN8490-100</td>\n",
       "      <td>0</td>\n",
       "      <td>9995</td>\n",
       "      <td>0</td>\n",
       "      <td>Nike</td>\n",
       "      <td>5</td>\n",
       "      <td>3</td>\n",
       "    </tr>\n",
       "    <tr>\n",
       "      <th>2882</th>\n",
       "      <td>Jordan Max 200</td>\n",
       "      <td>CD6105-007</td>\n",
       "      <td>0</td>\n",
       "      <td>10495</td>\n",
       "      <td>0</td>\n",
       "      <td>Nike</td>\n",
       "      <td>0</td>\n",
       "      <td>0</td>\n",
       "    </tr>\n",
       "    <tr>\n",
       "      <th>2678</th>\n",
       "      <td>Jordan 'Why Not?' Zer0.3 PF</td>\n",
       "      <td>CD3002-103</td>\n",
       "      <td>0</td>\n",
       "      <td>10995</td>\n",
       "      <td>0</td>\n",
       "      <td>Nike</td>\n",
       "      <td>5</td>\n",
       "      <td>2</td>\n",
       "    </tr>\n",
       "    <tr>\n",
       "      <th>3041</th>\n",
       "      <td>Nike Air Force 1 React</td>\n",
       "      <td>CD4366-002</td>\n",
       "      <td>0</td>\n",
       "      <td>9995</td>\n",
       "      <td>0</td>\n",
       "      <td>Nike</td>\n",
       "      <td>48</td>\n",
       "      <td>4</td>\n",
       "    </tr>\n",
       "    <tr>\n",
       "      <th>3142</th>\n",
       "      <td>Nike Air Max Triax 96</td>\n",
       "      <td>CD2053-105</td>\n",
       "      <td>0</td>\n",
       "      <td>10995</td>\n",
       "      <td>0</td>\n",
       "      <td>Nike</td>\n",
       "      <td>5</td>\n",
       "      <td>2</td>\n",
       "    </tr>\n",
       "  </tbody>\n",
       "</table>\n",
       "</div>"
      ],
      "text/plain": [
       "                                      Product name  Product id  Listing price  \\\n",
       "3064             Nike Mercurial Superfly 7 Club MG  AT7949-606              0   \n",
       "2795                        Nike Air VaporMax 2019  AR6631-004          15995   \n",
       "3030  Nike Phantom Vision 2 Academy Dynamic Fit MG  CD4156-606              0   \n",
       "2977        Nike Mercurial Vapor 13 Academy MDS TF  CJ1306-401           7495   \n",
       "2879                            Kyrie Flytrap 3 EP  CD0191-009              0   \n",
       "2737                               Nike Air Max 90  CN8490-100              0   \n",
       "2882                                Jordan Max 200  CD6105-007              0   \n",
       "2678                   Jordan 'Why Not?' Zer0.3 PF  CD3002-103              0   \n",
       "3041                        Nike Air Force 1 React  CD4366-002              0   \n",
       "3142                         Nike Air Max Triax 96  CD2053-105              0   \n",
       "\n",
       "      Sale price  Discount Category  Rating  Reviews  \n",
       "3064        5995         0     Nike       0        0  \n",
       "2795       12797         0     Nike      38       24  \n",
       "3030        8495         0     Nike       0        0  \n",
       "2977        5247         0     Nike       0        0  \n",
       "2879        6495         0     Nike       0        0  \n",
       "2737        9995         0     Nike       5        3  \n",
       "2882       10495         0     Nike       0        0  \n",
       "2678       10995         0     Nike       5        2  \n",
       "3041        9995         0     Nike      48        4  \n",
       "3142       10995         0     Nike       5        2  "
      ]
     },
     "execution_count": 233,
     "metadata": {},
     "output_type": "execute_result"
    }
   ],
   "source": [
    "pathway = \"C:/Users/Sara/project-2/data_nike_vs_addidas_unsupervised.xlsx\"\n",
    "nike_kaggle = pd.read_excel(pathway)\n",
    "nike_kaggle = nike_kaggle.iloc[2624:]\n",
    "\n",
    "nike_kaggle = nike_kaggle.rename(columns={\"Brand\": \"Category\"})\n",
    "nike_kaggle.columns = nike_kaggle.columns.str.capitalize()\n",
    "nike_kaggle.sample(10)"
   ]
  },
  {
   "cell_type": "code",
   "execution_count": 234,
   "metadata": {},
   "outputs": [],
   "source": [
    "merged_nike = pd.merge(nike_shoes, nike_kaggle[[\"Product name\", \"Rating\", \"Reviews\"]], how=\"left\", on=\"Product name\")\n",
    "\n",
    "# If you want to replace NaN values with 0 in the \"rating\" and \"reviews\" columns\n",
    "merged_nike[\"Rating\"].fillna(0, inplace=True)\n",
    "merged_nike[\"Reviews\"].fillna(0, inplace=True)\n",
    "\n",
    "merged_nike = merged_nike.drop_duplicates(subset=\"Product id\")"
   ]
  },
  {
   "cell_type": "code",
   "execution_count": 235,
   "metadata": {},
   "outputs": [],
   "source": [
    "merged_nike.drop(\"Colors\", axis=1, inplace=True)"
   ]
  },
  {
   "cell_type": "code",
   "execution_count": 236,
   "metadata": {},
   "outputs": [
    {
     "data": {
      "text/html": [
       "<div>\n",
       "<style scoped>\n",
       "    .dataframe tbody tr th:only-of-type {\n",
       "        vertical-align: middle;\n",
       "    }\n",
       "\n",
       "    .dataframe tbody tr th {\n",
       "        vertical-align: top;\n",
       "    }\n",
       "\n",
       "    .dataframe thead th {\n",
       "        text-align: right;\n",
       "    }\n",
       "</style>\n",
       "<table border=\"1\" class=\"dataframe\">\n",
       "  <thead>\n",
       "    <tr style=\"text-align: right;\">\n",
       "      <th></th>\n",
       "      <th>Product name</th>\n",
       "      <th>Product id</th>\n",
       "      <th>Listing price</th>\n",
       "      <th>Gender</th>\n",
       "      <th>Category</th>\n",
       "      <th>Rating</th>\n",
       "      <th>Reviews</th>\n",
       "    </tr>\n",
       "  </thead>\n",
       "  <tbody>\n",
       "    <tr>\n",
       "      <th>561</th>\n",
       "      <td>Sabrina 1 By You</td>\n",
       "      <td>2509937423</td>\n",
       "      <td>3091.0</td>\n",
       "      <td>Hombre</td>\n",
       "      <td>Sports</td>\n",
       "      <td>0.0</td>\n",
       "      <td>0.0</td>\n",
       "    </tr>\n",
       "    <tr>\n",
       "      <th>51</th>\n",
       "      <td>Nike Air Force 1 '07 Next Nature</td>\n",
       "      <td>CT2302-100</td>\n",
       "      <td>3091.0</td>\n",
       "      <td>Hombre</td>\n",
       "      <td>Lifestyle</td>\n",
       "      <td>0.0</td>\n",
       "      <td>0.0</td>\n",
       "    </tr>\n",
       "    <tr>\n",
       "      <th>538</th>\n",
       "      <td>Nike Vomero 5</td>\n",
       "      <td>FN7778-600</td>\n",
       "      <td>2853.0</td>\n",
       "      <td>Hombre</td>\n",
       "      <td>Lifestyle</td>\n",
       "      <td>0.0</td>\n",
       "      <td>0.0</td>\n",
       "    </tr>\n",
       "    <tr>\n",
       "      <th>253</th>\n",
       "      <td>Nike Air Max Pulse</td>\n",
       "      <td>FV6653-001</td>\n",
       "      <td>3091.0</td>\n",
       "      <td>Hombre</td>\n",
       "      <td>Lifestyle</td>\n",
       "      <td>0.0</td>\n",
       "      <td>0.0</td>\n",
       "    </tr>\n",
       "    <tr>\n",
       "      <th>430</th>\n",
       "      <td>Air Jordan 1 Mid</td>\n",
       "      <td>DQ8426-106</td>\n",
       "      <td>2853.0</td>\n",
       "      <td>Hombre</td>\n",
       "      <td>Lifestyle</td>\n",
       "      <td>45.0</td>\n",
       "      <td>61.0</td>\n",
       "    </tr>\n",
       "    <tr>\n",
       "      <th>577</th>\n",
       "      <td>Luka 2</td>\n",
       "      <td>DO7193-400</td>\n",
       "      <td>3567.0</td>\n",
       "      <td>Hombre</td>\n",
       "      <td>Sports</td>\n",
       "      <td>0.0</td>\n",
       "      <td>0.0</td>\n",
       "    </tr>\n",
       "    <tr>\n",
       "      <th>548</th>\n",
       "      <td>KD16</td>\n",
       "      <td>DV2917-803</td>\n",
       "      <td>2853.0</td>\n",
       "      <td>Hombre</td>\n",
       "      <td>Sports</td>\n",
       "      <td>0.0</td>\n",
       "      <td>0.0</td>\n",
       "    </tr>\n",
       "    <tr>\n",
       "      <th>456</th>\n",
       "      <td>Air Jordan 1 Mid</td>\n",
       "      <td>AQ9129-001</td>\n",
       "      <td>3329.0</td>\n",
       "      <td>Hombre</td>\n",
       "      <td>Lifestyle</td>\n",
       "      <td>45.0</td>\n",
       "      <td>61.0</td>\n",
       "    </tr>\n",
       "    <tr>\n",
       "      <th>584</th>\n",
       "      <td>Jordan One Take 4</td>\n",
       "      <td>DN1772-676</td>\n",
       "      <td>2853.0</td>\n",
       "      <td>Hombre</td>\n",
       "      <td>Sports</td>\n",
       "      <td>0.0</td>\n",
       "      <td>0.0</td>\n",
       "    </tr>\n",
       "    <tr>\n",
       "      <th>471</th>\n",
       "      <td>Jumpman MVP</td>\n",
       "      <td>BQ6472-146</td>\n",
       "      <td>0.0</td>\n",
       "      <td>Hombre</td>\n",
       "      <td>Lifestyle</td>\n",
       "      <td>0.0</td>\n",
       "      <td>0.0</td>\n",
       "    </tr>\n",
       "  </tbody>\n",
       "</table>\n",
       "</div>"
      ],
      "text/plain": [
       "                         Product name  Product id  Listing price  Gender  \\\n",
       "561                  Sabrina 1 By You  2509937423         3091.0  Hombre   \n",
       "51   Nike Air Force 1 '07 Next Nature  CT2302-100         3091.0  Hombre   \n",
       "538                     Nike Vomero 5  FN7778-600         2853.0  Hombre   \n",
       "253                Nike Air Max Pulse  FV6653-001         3091.0  Hombre   \n",
       "430                  Air Jordan 1 Mid  DQ8426-106         2853.0  Hombre   \n",
       "577                            Luka 2  DO7193-400         3567.0  Hombre   \n",
       "548                              KD16  DV2917-803         2853.0  Hombre   \n",
       "456                  Air Jordan 1 Mid  AQ9129-001         3329.0  Hombre   \n",
       "584                 Jordan One Take 4  DN1772-676         2853.0  Hombre   \n",
       "471                       Jumpman MVP  BQ6472-146            0.0  Hombre   \n",
       "\n",
       "      Category  Rating  Reviews  \n",
       "561     Sports     0.0      0.0  \n",
       "51   Lifestyle     0.0      0.0  \n",
       "538  Lifestyle     0.0      0.0  \n",
       "253  Lifestyle     0.0      0.0  \n",
       "430  Lifestyle    45.0     61.0  \n",
       "577     Sports     0.0      0.0  \n",
       "548     Sports     0.0      0.0  \n",
       "456  Lifestyle    45.0     61.0  \n",
       "584     Sports     0.0      0.0  \n",
       "471  Lifestyle     0.0      0.0  "
      ]
     },
     "execution_count": 236,
     "metadata": {},
     "output_type": "execute_result"
    }
   ],
   "source": [
    "merged_nike.sample(10)"
   ]
  },
  {
   "cell_type": "markdown",
   "metadata": {},
   "source": [
    "I ultimately concluded that my dataset offers superior information compared to the Kaggle dataset for Adidas. Therefore, my analysis will focus on comparing the Adidas Kaggle dataset with the Nike-striped dataset.\n",
    "\n",
    "The primary reasons for favoring my dataset are as follows:\n",
    "\n",
    "- Incomplete listing prices\n",
    "- Missing discount information\n",
    "- Limited and insufficient category details\n",
    "- Mismatched IDs with the Spain website"
   ]
  },
  {
   "cell_type": "code",
   "execution_count": 237,
   "metadata": {},
   "outputs": [],
   "source": [
    "merged_nike.to_csv('nike_shoes.csv', index=False)"
   ]
  }
 ],
 "metadata": {
  "kernelspec": {
   "display_name": "ironhack",
   "language": "python",
   "name": "python3"
  },
  "language_info": {
   "codemirror_mode": {
    "name": "ipython",
    "version": 3
   },
   "file_extension": ".py",
   "mimetype": "text/x-python",
   "name": "python",
   "nbconvert_exporter": "python",
   "pygments_lexer": "ipython3",
   "version": "3.11.5"
  }
 },
 "nbformat": 4,
 "nbformat_minor": 2
}
